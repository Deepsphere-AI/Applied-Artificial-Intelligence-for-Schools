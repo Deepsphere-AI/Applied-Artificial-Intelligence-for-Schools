{
  "nbformat": 4,
  "nbformat_minor": 0,
  "metadata": {
    "colab": {
      "provenance": [],
      "authorship_tag": "ABX9TyOpKZCdm0UothWDyAyUX6v+",
      "include_colab_link": true
    },
    "kernelspec": {
      "name": "python3",
      "display_name": "Python 3"
    },
    "language_info": {
      "name": "python"
    }
  },
  "cells": [
    {
      "cell_type": "markdown",
      "metadata": {
        "id": "view-in-github",
        "colab_type": "text"
      },
      "source": [
        "<a href=\"https://colab.research.google.com/github/Deepsphere-AI/Applied-Artificial-Intelligence-for-Schools/blob/master/Intermediate%20Level/Exercise%20lab%2041%20-%2046/Ten_PPT_45.ipynb\" target=\"_parent\"><img src=\"https://colab.research.google.com/assets/colab-badge.svg\" alt=\"Open In Colab\"/></a>"
      ]
    },
    {
      "cell_type": "code",
      "execution_count": null,
      "metadata": {
        "id": "3XKQ-ZWDIimJ"
      },
      "outputs": [],
      "source": [
        "\"\"\"\n",
        "Ex 45.\n",
        "\n",
        "Create the function myfunc() as before in order to plot a line of best fit for the points.\n",
        "\"\"\"\n",
        "\n",
        "import random\n",
        "from scipy import stats\n",
        "\n",
        "class Line_Plotter:\n",
        "  x_list = []\n",
        "  y_list = []\n",
        "\n",
        "  def __init__(self):\n",
        "    return\n",
        "  \n",
        "  def points(self, point_list):\n",
        "    for x in point_list:\n",
        "      temp = x.split(\",\")\n",
        "      self.x_list.append(temp[0])\n",
        "      self.y_list.append(temp[1])\n",
        "  \n",
        "  def randomize(self, x):\n",
        "    for i in range(x):\n",
        "      self.x_list.append(random.randint(1,100))\n",
        "      self.y_list.append(random.randint(1,100))\n",
        "\n",
        "  def myfunc(self,x):\n",
        "    slope, intercept, r, p, std_err = stats.linregress(self.x_list, self.y_list)\n",
        "    return slope * self.x + intercept\n",
        "\n",
        "\n",
        "l1 = Line_Plotter()\n",
        "l1.points([ \"2,3\" , \"2,4\" , \"2,5\" , \"2,6\"])\n",
        "l1.randomize(10)"
      ]
    }
  ]
}