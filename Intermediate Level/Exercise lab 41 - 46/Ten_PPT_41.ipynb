{
  "nbformat": 4,
  "nbformat_minor": 0,
  "metadata": {
    "colab": {
      "provenance": [],
      "authorship_tag": "ABX9TyOZFCQAJZmRMiQqVJCrjLDb",
      "include_colab_link": true
    },
    "kernelspec": {
      "name": "python3",
      "display_name": "Python 3"
    },
    "language_info": {
      "name": "python"
    }
  },
  "cells": [
    {
      "cell_type": "markdown",
      "metadata": {
        "id": "view-in-github",
        "colab_type": "text"
      },
      "source": [
        "<a href=\"https://colab.research.google.com/github/Deepsphere-AI/Applied-Artificial-Intelligence-for-Schools/blob/master/Intermediate%20Level/Exercise%20lab%2041%20-%2046/Ten_PPT_41.ipynb\" target=\"_parent\"><img src=\"https://colab.research.google.com/assets/colab-badge.svg\" alt=\"Open In Colab\"/></a>"
      ]
    },
    {
      "cell_type": "code",
      "execution_count": null,
      "metadata": {
        "id": "wPe60B3GJEOW"
      },
      "outputs": [],
      "source": [
        "\"\"\"\n",
        "Ex 41.\n",
        "\n",
        "Create a class line_plotter and give it the variables x_list and y_list\n",
        "\"\"\"\n",
        "\n",
        "class Line_Plotter:\n",
        "  x_list = []\n",
        "  y_list = []"
      ]
    }
  ]
}