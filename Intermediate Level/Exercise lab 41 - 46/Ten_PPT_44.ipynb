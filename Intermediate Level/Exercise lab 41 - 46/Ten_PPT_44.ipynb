{
  "nbformat": 4,
  "nbformat_minor": 0,
  "metadata": {
    "colab": {
      "provenance": [],
      "authorship_tag": "ABX9TyP0GoRXXtU/5mD4UxX6i/VY",
      "include_colab_link": true
    },
    "kernelspec": {
      "name": "python3",
      "display_name": "Python 3"
    },
    "language_info": {
      "name": "python"
    }
  },
  "cells": [
    {
      "cell_type": "markdown",
      "metadata": {
        "id": "view-in-github",
        "colab_type": "text"
      },
      "source": [
        "<a href=\"https://colab.research.google.com/github/Deepsphere-AI/Applied-Artificial-Intelligence-for-Schools/blob/master/Intermediate%20Level/Exercise%20lab%2041%20-%2046/Ten_PPT_44.ipynb\" target=\"_parent\"><img src=\"https://colab.research.google.com/assets/colab-badge.svg\" alt=\"Open In Colab\"/></a>"
      ]
    },
    {
      "cell_type": "code",
      "execution_count": null,
      "metadata": {
        "id": "SZCL1mE6ITLb"
      },
      "outputs": [],
      "source": [
        "\"\"\"\n",
        "Ex 44.\n",
        "\n",
        "Create the function randomize that will take in x and create 10 random points and add them to x and y. Make the range between 1 and 100.\n",
        "\"\"\"\n",
        "\n",
        "import random\n",
        "\n",
        "class Line_Plotter:\n",
        "  x_list = []\n",
        "  y_list = []\n",
        "\n",
        "  def __init__(self):\n",
        "    return\n",
        "  \n",
        "  def points(self, point_list):\n",
        "    for x in point_list:\n",
        "      temp = x.split(\",\")\n",
        "      self.x_list.append(temp[0])\n",
        "      self.y_list.append(temp[1])\n",
        "  \n",
        "  def randomize(self, x):\n",
        "    for i in range(x):\n",
        "      self.x_list.append(random.randint(1,100))\n",
        "      self.y_list.append(random.randint(1,100))\n",
        "\n",
        "\n",
        "l1 = Line_Plotter()\n",
        "l1.points([ \"2,3\" , \"2,4\" , \"2,5\" , \"2,6\"])\n",
        "l1.randomize(10)"
      ]
    }
  ]
}