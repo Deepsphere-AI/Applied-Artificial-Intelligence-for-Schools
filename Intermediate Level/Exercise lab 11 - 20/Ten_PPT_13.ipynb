{
  "nbformat": 4,
  "nbformat_minor": 0,
  "metadata": {
    "colab": {
      "provenance": [],
      "authorship_tag": "ABX9TyMgp7EvvVINvSIeEe8A5wd3",
      "include_colab_link": true
    },
    "kernelspec": {
      "name": "python3",
      "display_name": "Python 3"
    },
    "language_info": {
      "name": "python"
    }
  },
  "cells": [
    {
      "cell_type": "markdown",
      "metadata": {
        "id": "view-in-github",
        "colab_type": "text"
      },
      "source": [
        "<a href=\"https://colab.research.google.com/github/Deepsphere-AI/Applied-Artificial-Intelligence-for-Schools/blob/master/Intermediate%20Level/Exercise%20lab%2011%20-%2020/Ten_PPT_13.ipynb\" target=\"_parent\"><img src=\"https://colab.research.google.com/assets/colab-badge.svg\" alt=\"Open In Colab\"/></a>"
      ]
    },
    {
      "cell_type": "code",
      "execution_count": null,
      "metadata": {
        "id": "q5koymKxLfkU"
      },
      "outputs": [],
      "source": [
        "\"\"\"\n",
        "Ex 13.\n",
        "\n",
        "Create a function bar which will use matplotlib and graph the function as a bar graph with the X and Y values.\n",
        "\"\"\"\n",
        "\n",
        "import numpy as np\n",
        "import matplotlib.pyplot as plt\n",
        "\n",
        "class Data_Plotter:\n",
        "  type = \"\"\n",
        "  X = np.array([])\n",
        "  Y = np.array([])\n",
        "\n",
        "  def __init__(self, type, x, y):\n",
        "    self.type = type\n",
        "    self.X = x\n",
        "    self.Y = y\n",
        "  \n",
        "  def bar(self):\n",
        "    plt.bar(self.X, self.Y)\n",
        "\n",
        "dp1 = Data_Plotter(\"Bar\", [\"A\", \"B\", \"C\", \"D\"], [20,43,56,12])\n",
        "dp1.bar()"
      ]
    }
  ]
}