{
  "nbformat": 4,
  "nbformat_minor": 0,
  "metadata": {
    "colab": {
      "provenance": [],
      "authorship_tag": "ABX9TyNwGhIC6Kq+8vlzSSrO5aK0",
      "include_colab_link": true
    },
    "kernelspec": {
      "name": "python3",
      "display_name": "Python 3"
    },
    "language_info": {
      "name": "python"
    }
  },
  "cells": [
    {
      "cell_type": "markdown",
      "metadata": {
        "id": "view-in-github",
        "colab_type": "text"
      },
      "source": [
        "<a href=\"https://colab.research.google.com/github/Deepsphere-AI/Applied-Artificial-Intelligence-for-Schools/blob/master/Intermediate%20Level/Exercise%20lab%2011%20-%2020/Ten_PPT_18.ipynb\" target=\"_parent\"><img src=\"https://colab.research.google.com/assets/colab-badge.svg\" alt=\"Open In Colab\"/></a>"
      ]
    },
    {
      "cell_type": "code",
      "execution_count": null,
      "metadata": {
        "id": "Gib7VOQAOAKF"
      },
      "outputs": [],
      "source": [
        "\"\"\"\n",
        "Ex 18.\n",
        "\n",
        "Create the function change_type which will change the type. Then plot 2 different types of graphs to see if it worked.\n",
        "\"\"\"\n",
        "\n",
        "import numpy as np\n",
        "import matplotlib.pyplot as plt\n",
        "\n",
        "class Data_Plotter:\n",
        "  type = \"\"\n",
        "  X = np.array([])\n",
        "  Y = np.array([])\n",
        "\n",
        "  def __init__(self, type, x, y):\n",
        "    self.type = type\n",
        "    self.X = x\n",
        "    self.Y = y\n",
        "  \n",
        "  def bar(self):\n",
        "    plt.bar(self.X, self.Y)\n",
        "  \n",
        "  def hist(self):\n",
        "    plt.hist(self.Y)\n",
        "  \n",
        "  def pie(self):\n",
        "    plt.pie(self.Y)\n",
        "  \n",
        "  def line(self):\n",
        "    plt.plot(self.X,self.Y)\n",
        "  \n",
        "  def plot(self):\n",
        "    if(self.type.lower()== \"bar\"):\n",
        "      self.bar()\n",
        "    elif(self.type.lower()== \"line\"):\n",
        "      self.line()\n",
        "    elif(self.type.lower()== \"pie\"):\n",
        "      self.pie()\n",
        "    else:\n",
        "      self.hist()\n",
        "  \n",
        "  def change_type(self, type):\n",
        "    self.type = type\n",
        "    \n",
        "\n",
        "dp1 = Data_Plotter(\"Line\", [1,2,3,4], [43,23,27,7])\n",
        "dp1.plot()\n",
        "dp1.change_type(\"Bar\")\n",
        "dp1.plot()"
      ]
    }
  ]
}