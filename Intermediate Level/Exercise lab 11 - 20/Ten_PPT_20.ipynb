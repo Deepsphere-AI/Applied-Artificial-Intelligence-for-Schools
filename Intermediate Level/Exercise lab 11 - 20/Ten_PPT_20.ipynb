{
  "nbformat": 4,
  "nbformat_minor": 0,
  "metadata": {
    "colab": {
      "provenance": [],
      "authorship_tag": "ABX9TyNKTzh6LsIFVEcoPf+gR9Qs",
      "include_colab_link": true
    },
    "kernelspec": {
      "name": "python3",
      "display_name": "Python 3"
    },
    "language_info": {
      "name": "python"
    }
  },
  "cells": [
    {
      "cell_type": "markdown",
      "metadata": {
        "id": "view-in-github",
        "colab_type": "text"
      },
      "source": [
        "<a href=\"https://colab.research.google.com/github/Deepsphere-AI/Applied-Artificial-Intelligence-for-Schools/blob/master/Intermediate%20Level/Exercise%20lab%2011%20-%2020/Ten_PPT_20.ipynb\" target=\"_parent\"><img src=\"https://colab.research.google.com/assets/colab-badge.svg\" alt=\"Open In Colab\"/></a>"
      ]
    },
    {
      "cell_type": "code",
      "execution_count": null,
      "metadata": {
        "id": "Padu4Bh6OuBw"
      },
      "outputs": [],
      "source": [
        "\"\"\"\n",
        "Ex 20.\n",
        "\n",
        "Create the function generate that also takes in the type and sets the x and/or y self arrays using the random function created before.\n",
        "\"\"\"\n",
        "\n",
        "import numpy as np\n",
        "import matplotlib.pyplot as plt\n",
        "import random\n",
        "\n",
        "class Data_Plotter:\n",
        "  type = \"\"\n",
        "  X = np.array([])\n",
        "  Y = np.array([])\n",
        "\n",
        "  def __init__(self, type, x, y):\n",
        "    self.type = type\n",
        "    self.X = x\n",
        "    self.Y = y\n",
        "  \n",
        "  def bar(self):\n",
        "    plt.bar(self.X, self.Y)\n",
        "  \n",
        "  def hist(self):\n",
        "    plt.hist(self.Y)\n",
        "  \n",
        "  def pie(self):\n",
        "    plt.pie(self.Y)\n",
        "  \n",
        "  def line(self):\n",
        "    plt.plot(self.X,self.Y)\n",
        "  \n",
        "  def plot(self):\n",
        "    if(self.type.lower()== \"bar\"):\n",
        "      self.bar()\n",
        "    elif(self.type.lower()== \"line\"):\n",
        "      self.line()\n",
        "    elif(self.type.lower()== \"pie\"):\n",
        "      self.pie()\n",
        "    else:\n",
        "      self.hist()\n",
        "  \n",
        "  def change_type(self, type):\n",
        "    self.type = type\n",
        "  \n",
        "  def random(self,x, lower,upper):\n",
        "    arr = []\n",
        "    for i in range(x):\n",
        "      arr.append(random.randrange(lower,upper))\n",
        "    return arr\n",
        "  \n",
        "  def generate(self, x, lower, upper):\n",
        "    if(self.type.lower()== \"bar\"):\n",
        "      self.X = self.random(x, lower,upper)\n",
        "      self.Y = self.random(x, lower,upper)\n",
        "    elif(self.type.lower()== \"line\"):\n",
        "      self.X = self.random(x, lower,upper)\n",
        "      self.Y = self.random(x, lower,upper)\n",
        "    elif(self.type.lower()== \"pie\"):\n",
        "      self.Y = self.random(x, lower,upper)\n",
        "    else:\n",
        "      self.Y = self.random(x, lower,upper)\n",
        "    \n",
        "\n",
        "dp1 = Data_Plotter(\"Pie\", [1,2,3,4], [43,23,27,7])\n",
        "dp1.generate(10,0,10)\n",
        "dp1.plot()"
      ]
    }
  ]
}