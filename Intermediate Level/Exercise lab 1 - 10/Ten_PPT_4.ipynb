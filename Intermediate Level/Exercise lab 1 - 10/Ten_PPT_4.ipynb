{
  "nbformat": 4,
  "nbformat_minor": 0,
  "metadata": {
    "colab": {
      "provenance": [],
      "authorship_tag": "ABX9TyPLTmw87yqO0LQ/isx+ySbg",
      "include_colab_link": true
    },
    "kernelspec": {
      "name": "python3",
      "display_name": "Python 3"
    },
    "language_info": {
      "name": "python"
    }
  },
  "cells": [
    {
      "cell_type": "markdown",
      "metadata": {
        "id": "view-in-github",
        "colab_type": "text"
      },
      "source": [
        "<a href=\"https://colab.research.google.com/github/Deepsphere-AI/Applied-Artificial-Intelligence-for-Schools/blob/master/Intermediate%20Level/Exercise%20lab%201%20-%2010/Ten_PPT_4.ipynb\" target=\"_parent\"><img src=\"https://colab.research.google.com/assets/colab-badge.svg\" alt=\"Open In Colab\"/></a>"
      ]
    },
    {
      "cell_type": "code",
      "execution_count": null,
      "metadata": {
        "id": "Y1XHtpHI_33q"
      },
      "outputs": [],
      "source": [
        "\"\"\"\n",
        "Ex 4.\n",
        "\n",
        "Create the functions change_string and change_key which will change their corresponding attributes.\n",
        "\"\"\"\n",
        "\n",
        "class Encryptor:\n",
        "  in_string = \"\"\n",
        "  out_string = \"\"\n",
        "  letters = ['a', 'b', 'c', 'd', 'e', 'f', 'g', 'h', 'i', 'j', 'k', 'l', 'm', 'n', 'o', 'p', 'q', 'r', 's', 't', 'u', 'v', 'w', 'x', 'y', 'z']\n",
        "  key = 0\n",
        "\n",
        "  def __init__(self, in_str, in_key):\n",
        "    self.key = in_key\n",
        "    self.in_string = in_str\n",
        "\n",
        "  def encrypt(self):\n",
        "    self.in_string = self.in_string.lower()\n",
        "    for x in range(len(self.in_string)):\n",
        "      for i in range(len(self.letters)):\n",
        "        if(self.letters[i] ==  self.in_string[x]):\n",
        "          temp = i + self.key\n",
        "          temp = temp%26\n",
        "          self.out_string = self.out_string + self.letters[temp]\n",
        "    return self.out_string\n",
        "  \n",
        "  def change_string(self, in_str):\n",
        "    self.in_string = in_str\n",
        "  \n",
        "  def change_key(self, key):\n",
        "    self.key = key\n",
        "  \n",
        "e1 = Encryptor(\"Hello\", 30)\n",
        "e1.change_key(1)\n",
        "e1.change_string(\"Apple\")\n",
        "print(e1.encrypt())"
      ]
    }
  ]
}