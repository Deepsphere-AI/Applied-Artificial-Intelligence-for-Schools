{
  "nbformat": 4,
  "nbformat_minor": 0,
  "metadata": {
    "colab": {
      "provenance": [],
      "authorship_tag": "ABX9TyNSlyasa2UTDsK2YoqA6U0V",
      "include_colab_link": true
    },
    "kernelspec": {
      "name": "python3",
      "display_name": "Python 3"
    },
    "language_info": {
      "name": "python"
    }
  },
  "cells": [
    {
      "cell_type": "markdown",
      "metadata": {
        "id": "view-in-github",
        "colab_type": "text"
      },
      "source": [
        "<a href=\"https://colab.research.google.com/github/Deepsphere-AI/Applied-Artificial-Intelligence-for-Schools/blob/master/Intermediate%20Level/Exercise%20lab%201%20-%2010/Ten_PPT_3.ipynb\" target=\"_parent\"><img src=\"https://colab.research.google.com/assets/colab-badge.svg\" alt=\"Open In Colab\"/></a>"
      ]
    },
    {
      "cell_type": "code",
      "execution_count": null,
      "metadata": {
        "id": "Yq65_ytiAKRR"
      },
      "outputs": [],
      "source": [
        "\"\"\"\n",
        "Ex 3.\n",
        "\n",
        "Create a function encrypt, which will shift each letter in the in_string, the key amount to the right. For example, if the key is 1 and the string is \"apple\", then it becomes \"bqqmf\" (Each letter is shifted one right)\n",
        "\"\"\"\n",
        "\n",
        "class Encryptor:\n",
        "  in_string = \"\"\n",
        "  out_string = \"\"\n",
        "  letters = ['a', 'b', 'c', 'd', 'e', 'f', 'g', 'h', 'i', 'j', 'k', 'l', 'm', 'n', 'o', 'p', 'q', 'r', 's', 't', 'u', 'v', 'w', 'x', 'y', 'z']\n",
        "  key = 0\n",
        "\n",
        "  def __init__(self, in_str, in_key):\n",
        "    self.key = in_key\n",
        "    self.in_string = in_str\n",
        "\n",
        "  def encrypt(self):\n",
        "    self.in_string = self.in_string.lower()\n",
        "    for x in range(len(self.in_string)):\n",
        "      for i in range(len(self.letters)):\n",
        "        if(self.letters[i] ==  self.in_string[x]):\n",
        "          temp = i + self.key\n",
        "          temp = temp%26\n",
        "          self.out_string = self.out_string + self.letters[temp]\n",
        "    return self.out_string\n",
        "  \n",
        "e1 = Encryptor(\"Hello\", 30)\n",
        "print(e1.encrypt())"
      ]
    }
  ]
}