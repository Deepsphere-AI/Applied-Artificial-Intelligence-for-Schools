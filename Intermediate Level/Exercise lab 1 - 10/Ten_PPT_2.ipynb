{
  "nbformat": 4,
  "nbformat_minor": 0,
  "metadata": {
    "colab": {
      "provenance": [],
      "authorship_tag": "ABX9TyNK9VWC5kiPck94a7btELxl",
      "include_colab_link": true
    },
    "kernelspec": {
      "name": "python3",
      "display_name": "Python 3"
    },
    "language_info": {
      "name": "python"
    }
  },
  "cells": [
    {
      "cell_type": "markdown",
      "metadata": {
        "id": "view-in-github",
        "colab_type": "text"
      },
      "source": [
        "<a href=\"https://colab.research.google.com/github/Deepsphere-AI/Applied-Artificial-Intelligence-for-Schools/blob/master/Intermediate%20Level/Exercise%20lab%201%20-%2010/Ten_PPT_2.ipynb\" target=\"_parent\"><img src=\"https://colab.research.google.com/assets/colab-badge.svg\" alt=\"Open In Colab\"/></a>"
      ]
    },
    {
      "cell_type": "code",
      "execution_count": null,
      "metadata": {
        "id": "u3UJfSca-Ja5"
      },
      "outputs": [],
      "source": [
        "\"\"\"\n",
        "Ex 2.\n",
        "\n",
        "Create a constructor which will take in the input string, and a key (int).\n",
        "\"\"\"\n",
        "\n",
        "class Encryptor:\n",
        "  in_string = \"\"\n",
        "  out_string = \"\"\n",
        "  letters = ['a', 'b', 'c', 'd', 'e', 'f', 'g', 'h', 'i', 'j', 'k', 'l', 'm', 'n', 'o', 'p', 'q', 'r', 's', 't', 'u', 'v', 'w', 'x', 'y', 'z']\n",
        "  key = 0\n",
        "\n",
        "  def __init__(self, in_str, in_key):\n",
        "    self.key = in_key\n",
        "    self.in_string = in_str"
      ]
    }
  ]
}