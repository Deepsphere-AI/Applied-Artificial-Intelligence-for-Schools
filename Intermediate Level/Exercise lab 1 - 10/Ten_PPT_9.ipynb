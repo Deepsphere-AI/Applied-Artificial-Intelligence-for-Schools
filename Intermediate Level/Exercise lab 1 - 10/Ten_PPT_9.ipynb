{
  "nbformat": 4,
  "nbformat_minor": 0,
  "metadata": {
    "colab": {
      "provenance": [],
      "authorship_tag": "ABX9TyPAqtzXUJ3eSRBF5lNv/mxC",
      "include_colab_link": true
    },
    "kernelspec": {
      "name": "python3",
      "display_name": "Python 3"
    },
    "language_info": {
      "name": "python"
    }
  },
  "cells": [
    {
      "cell_type": "markdown",
      "metadata": {
        "id": "view-in-github",
        "colab_type": "text"
      },
      "source": [
        "<a href=\"https://colab.research.google.com/github/Deepsphere-AI/Applied-Artificial-Intelligence-for-Schools/blob/master/Intermediate%20Level/Exercise%20lab%201%20-%2010/Ten_PPT_9.ipynb\" target=\"_parent\"><img src=\"https://colab.research.google.com/assets/colab-badge.svg\" alt=\"Open In Colab\"/></a>"
      ]
    },
    {
      "cell_type": "code",
      "execution_count": null,
      "metadata": {
        "id": "mM26tHRNI_Kj"
      },
      "outputs": [],
      "source": [
        "\"\"\"\n",
        "Ex 9.\n",
        "\n",
        "Now create the variable out_list at the top and the function decrypt which will decrypt all the values with their corresponding keys and append their values to the out list.\n",
        "\"\"\"\n",
        "\n",
        "class Decryptor:\n",
        "  key_list = []\n",
        "  Encryptor_list = []\n",
        "  letters = ['a', 'b', 'c', 'd', 'e', 'f', 'g', 'h', 'i', 'j', 'k', 'l', 'm', 'n', 'o', 'p', 'q', 'r', 's', 't', 'u', 'v', 'w', 'x', 'y', 'z']\n",
        "  out_list = []\n",
        "\n",
        "  def __init__(self):\n",
        "    return\n",
        "  \n",
        "  def add_encryptor(self, in_string, key):\n",
        "    self.key_list.append(key)\n",
        "    self.Encryptor_list.append(in_string)\n",
        "  \n",
        "  def decrypt(self):\n",
        "    self.letters.reverse()\n",
        "    for x in range(len(self.key_list)):\n",
        "      out = \"\"\n",
        "      en_str = self.Encryptor_list[x]\n",
        "      for i in range(len(en_str)):\n",
        "        for y in range(len(self.letters)):\n",
        "          if(self.letters[y] == en_str[i]):\n",
        "            temp = y\n",
        "            temp = temp + self.key_list[x]\n",
        "            temp = temp%26\n",
        "            out = out + self.letters[temp]\n",
        "      self.out_list.append(out)\n",
        "\n",
        "\n",
        "  \n",
        "\n",
        "class Encryptor:\n",
        "  in_string = \"\"\n",
        "  out_string = \"\"\n",
        "  letters = ['a', 'b', 'c', 'd', 'e', 'f', 'g', 'h', 'i', 'j', 'k', 'l', 'm', 'n', 'o', 'p', 'q', 'r', 's', 't', 'u', 'v', 'w', 'x', 'y', 'z']\n",
        "  key = 0\n",
        "\n",
        "  def __init__(self, in_str, in_key):\n",
        "    self.key = in_key\n",
        "    self.in_string = in_str\n",
        "\n",
        "  def encrypt(self):\n",
        "    self.in_string = self.in_string.lower()\n",
        "    for x in range(len(self.in_string)):\n",
        "      for i in range(len(self.letters)):\n",
        "        if(self.letters[i] ==  self.in_string[x]):\n",
        "          temp = i + self.key\n",
        "          temp = temp%26\n",
        "          self.out_string = self.out_string + self.letters[temp]\n",
        "    return self.out_string\n",
        "\n",
        "  def change_string(self, in_str):\n",
        "    self.in_string = in_str\n",
        "  \n",
        "  def change_key(self, key):\n",
        "    self.key = key\n",
        "  \n",
        "  def get_values(self):\n",
        "    return \"Input String: \" + self.in_string + \", Output String: \" + self.out_string + \", Key: \" + str(self.key) \n",
        "\n",
        "e1 = Encryptor(\"Hello\", 30)\n",
        "e1.change_key(1)\n",
        "e1.change_string(\"Apple\")\n",
        "e1.encrypt()\n",
        "print(e1.get_values())\n",
        "\n",
        "d1 = Decryptor()\n",
        "d1.add_encryptor(\"bqqmf\", 1)\n",
        "d1.add_encryptor(\"ifmmp\", 1)\n",
        "d1.decrypt()"
      ]
    }
  ]
}