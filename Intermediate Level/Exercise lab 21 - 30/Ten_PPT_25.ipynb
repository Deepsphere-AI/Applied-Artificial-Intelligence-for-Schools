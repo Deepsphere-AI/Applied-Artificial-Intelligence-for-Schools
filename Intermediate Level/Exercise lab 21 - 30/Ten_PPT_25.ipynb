{
  "nbformat": 4,
  "nbformat_minor": 0,
  "metadata": {
    "colab": {
      "provenance": [],
      "authorship_tag": "ABX9TyMAp/fjnuyx7XCzz+V410ZG",
      "include_colab_link": true
    },
    "kernelspec": {
      "name": "python3",
      "display_name": "Python 3"
    },
    "language_info": {
      "name": "python"
    }
  },
  "cells": [
    {
      "cell_type": "markdown",
      "metadata": {
        "id": "view-in-github",
        "colab_type": "text"
      },
      "source": [
        "<a href=\"https://colab.research.google.com/github/Deepsphere-AI/Applied-Artificial-Intelligence-for-Schools/blob/master/Intermediate%20Level/Exercise%20lab%2021%20-%2030/Ten_PPT_25.ipynb\" target=\"_parent\"><img src=\"https://colab.research.google.com/assets/colab-badge.svg\" alt=\"Open In Colab\"/></a>"
      ]
    },
    {
      "cell_type": "code",
      "execution_count": null,
      "metadata": {
        "id": "MaeprrBKUA2n"
      },
      "outputs": [],
      "source": [
        "\"\"\"\n",
        "Ex 25.\n",
        "\n",
        "Call these two past functions created in the constructor so that whenever a word is created, these two functions are automatically excecuted.\n",
        "\"\"\"\n",
        "\n",
        "class Word:\n",
        "  word = \"\"\n",
        "  letter_count = []\n",
        "  letters = []\n",
        "\n",
        "  def __init__(self, s1):\n",
        "    self.word = s1\n",
        "    self.to_letters()\n",
        "    self.count_letters()\n",
        "  \n",
        "  def to_letters(self):\n",
        "    self.letters.append(self.word[0])\n",
        "    for x in range(len(self.word)):\n",
        "      temp = True\n",
        "      for i in range(len(self.letters)):\n",
        "        if(self.word[x] == self.letters[i]):\n",
        "          temp = False\n",
        "          break\n",
        "      if temp:\n",
        "        self.letters.append(self.word[x])\n",
        "    return self.letters\n",
        "  \n",
        "  def count_letters(self):\n",
        "    for x in self.letters:\n",
        "      temp = 0\n",
        "      for i in range(len(self.word)):\n",
        "        if x == self.word[i]:\n",
        "          temp+=1\n",
        "      self.letter_count.append(temp)\n",
        "    return self.letter_count\n",
        "\n",
        "\n",
        "w1 = Word(\"Mississippi\")\n",
        "print(w1.to_letters())\n",
        "print(w1.count_letters())"
      ]
    }
  ]
}