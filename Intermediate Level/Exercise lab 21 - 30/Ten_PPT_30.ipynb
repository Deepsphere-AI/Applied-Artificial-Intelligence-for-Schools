{
  "nbformat": 4,
  "nbformat_minor": 0,
  "metadata": {
    "colab": {
      "provenance": [],
      "authorship_tag": "ABX9TyMxoXxMYE74cPdp5m+YtCMg",
      "include_colab_link": true
    },
    "kernelspec": {
      "name": "python3",
      "display_name": "Python 3"
    },
    "language_info": {
      "name": "python"
    }
  },
  "cells": [
    {
      "cell_type": "markdown",
      "metadata": {
        "id": "view-in-github",
        "colab_type": "text"
      },
      "source": [
        "<a href=\"https://colab.research.google.com/github/Deepsphere-AI/Applied-Artificial-Intelligence-for-Schools/blob/master/Intermediate%20Level/Exercise%20lab%2021%20-%2030/Ten_PPT_30.ipynb\" target=\"_parent\"><img src=\"https://colab.research.google.com/assets/colab-badge.svg\" alt=\"Open In Colab\"/></a>"
      ]
    },
    {
      "cell_type": "code",
      "execution_count": null,
      "metadata": {
        "id": "STZ9YFLRXICO"
      },
      "outputs": [],
      "source": [
        "\"\"\"\n",
        "Ex 30.\n",
        "\n",
        "Change the random class so the words will be a random length from 2 to 10.\n",
        "\"\"\"\n",
        "\n",
        "import random\n",
        "\n",
        "class Text:\n",
        "  word_list = []\n",
        "  letters = ['a', 'b', 'c', 'd', 'e', 'f', 'g', 'h', 'i', 'j', 'k', 'l', 'm', 'n', 'o', 'p', 'q', 'r', 's', 't', 'u', 'v', 'w', 'x', 'y', 'z'] \n",
        "  letter_count = []\n",
        "  words = 0\n",
        "\n",
        "  def __init__(self,x):\n",
        "    self.words = x\n",
        "  \n",
        "  def random(self):\n",
        "    for x in range(self.words):\n",
        "      temp = \"\"\n",
        "      tem = random.randint(2,10)\n",
        "      for x in range(tem):\n",
        "        temp = temp + self.letters[random.randint(0,25)]\n",
        "      self.word_list.append(temp)\n",
        "    return self.word_list\n",
        "  \n",
        "  def count_letters(self):\n",
        "    for x in range(26):\n",
        "      self.letter_count.append(0)\n",
        "    for x in self.word_list:\n",
        "      for j in range(len(x)):\n",
        "        for i in range(len(self.letters)):\n",
        "          if(x[j] == self.letters[i]):\n",
        "            self.letter_count[i]+=1\n",
        "    for x in range(len(self.letters)):\n",
        "      print(self.letters[x] + \" : \" + str(self.letter_count[x]))\n",
        "\n",
        "\n",
        "class Word:\n",
        "  word = \"\"\n",
        "  letter_count = []\n",
        "  letters = []\n",
        "\n",
        "  def __init__(self, s1):\n",
        "    self.word = s1\n",
        "    self.to_letters()\n",
        "    self.count_letters()\n",
        "  \n",
        "  def to_letters(self):\n",
        "    self.letters.append(self.word[0])\n",
        "    for x in range(len(self.word)):\n",
        "      temp = True\n",
        "      for i in range(len(self.letters)):\n",
        "        if(self.word[x] == self.letters[i]):\n",
        "          temp = False\n",
        "          break\n",
        "      if temp:\n",
        "        self.letters.append(self.word[x])\n",
        "    return self.letters\n",
        "  \n",
        "  def count_letters(self):\n",
        "    for x in self.letters:\n",
        "      temp = 0\n",
        "      for i in range(len(self.word)):\n",
        "        if x == self.word[i]:\n",
        "          temp+=1\n",
        "      self.letter_count.append(temp)\n",
        "    return self.letter_count\n",
        "\n",
        "\n",
        "w1 = Word(\"Mississippi\")\n",
        "print(w1.to_letters())\n",
        "print(w1.count_letters())\n",
        "\n",
        "t1 = Text(10)\n",
        "print(t1.random())\n",
        "t1.count_letters()"
      ]
    }
  ]
}