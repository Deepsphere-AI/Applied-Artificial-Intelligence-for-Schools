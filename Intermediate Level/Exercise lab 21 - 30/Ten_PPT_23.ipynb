{
  "nbformat": 4,
  "nbformat_minor": 0,
  "metadata": {
    "colab": {
      "provenance": [],
      "authorship_tag": "ABX9TyN/I3QBkxzmqDQndI4AauTF",
      "include_colab_link": true
    },
    "kernelspec": {
      "name": "python3",
      "display_name": "Python 3"
    },
    "language_info": {
      "name": "python"
    }
  },
  "cells": [
    {
      "cell_type": "markdown",
      "metadata": {
        "id": "view-in-github",
        "colab_type": "text"
      },
      "source": [
        "<a href=\"https://colab.research.google.com/github/Deepsphere-AI/Applied-Artificial-Intelligence-for-Schools/blob/master/Intermediate%20Level/Exercise%20lab%2021%20-%2030/Ten_PPT_23.ipynb\" target=\"_parent\"><img src=\"https://colab.research.google.com/assets/colab-badge.svg\" alt=\"Open In Colab\"/></a>"
      ]
    },
    {
      "cell_type": "code",
      "execution_count": null,
      "metadata": {
        "id": "IyS_Je16TNy9"
      },
      "outputs": [],
      "source": [
        "\"\"\"\n",
        "Ex 23.\n",
        "\n",
        "Create a function to_letters which splits a string into uniqe letters, meaning that \"Hello\" gets split into H, e, l, and o. Set the letters list to contain each of these letters.\n",
        "\"\"\"\n",
        "\n",
        "class Word:\n",
        "  word = \"\"\n",
        "  letter_count = []\n",
        "  letters = []\n",
        "\n",
        "  def __init__(self, s1):\n",
        "    self.word = s1\n",
        "  \n",
        "  def to_letters(self):\n",
        "    self.letters.append(self.word[0])\n",
        "    for x in range(len(self.word)):\n",
        "      temp = True\n",
        "      for i in range(len(self.letters)):\n",
        "        if(self.word[x] == self.letters[i]):\n",
        "          temp = False\n",
        "          break\n",
        "      if temp:\n",
        "        self.letters.append(self.word[x])\n",
        "    return self.letters\n",
        "\n",
        "w1 = Word(\"Mississippi\")\n",
        "print(w1.to_letters())\n"
      ]
    }
  ]
}