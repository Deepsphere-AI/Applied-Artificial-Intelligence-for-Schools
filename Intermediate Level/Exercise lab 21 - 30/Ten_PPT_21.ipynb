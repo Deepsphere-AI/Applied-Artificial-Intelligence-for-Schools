{
  "nbformat": 4,
  "nbformat_minor": 0,
  "metadata": {
    "colab": {
      "provenance": [],
      "authorship_tag": "ABX9TyMloS9liyOLB6GLrwy+zQ+c",
      "include_colab_link": true
    },
    "kernelspec": {
      "name": "python3",
      "display_name": "Python 3"
    },
    "language_info": {
      "name": "python"
    }
  },
  "cells": [
    {
      "cell_type": "markdown",
      "metadata": {
        "id": "view-in-github",
        "colab_type": "text"
      },
      "source": [
        "<a href=\"https://colab.research.google.com/github/Deepsphere-AI/Applied-Artificial-Intelligence-for-Schools/blob/master/Intermediate%20Level/Exercise%20lab%2021%20-%2030/Ten_PPT_21.ipynb\" target=\"_parent\"><img src=\"https://colab.research.google.com/assets/colab-badge.svg\" alt=\"Open In Colab\"/></a>"
      ]
    },
    {
      "cell_type": "code",
      "execution_count": null,
      "metadata": {
        "id": "aHhGL3ZqR83p"
      },
      "outputs": [],
      "source": [
        "\"\"\"\n",
        "Ex 21.\n",
        "\n",
        "Create a class called Word which has a string called, word,a list called letter count, and a list called letters.\n",
        "\"\"\"\n",
        "\n",
        "class Word:\n",
        "  word = \"\"\n",
        "  letter_count = []\n",
        "  letters = []"
      ]
    }
  ]
}