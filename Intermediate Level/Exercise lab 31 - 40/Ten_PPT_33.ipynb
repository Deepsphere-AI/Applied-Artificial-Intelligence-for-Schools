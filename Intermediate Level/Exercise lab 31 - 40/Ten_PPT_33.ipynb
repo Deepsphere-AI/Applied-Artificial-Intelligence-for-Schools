{
  "nbformat": 4,
  "nbformat_minor": 0,
  "metadata": {
    "colab": {
      "provenance": [],
      "authorship_tag": "ABX9TyNMaC4N+rs15RR4P2M108ZI",
      "include_colab_link": true
    },
    "kernelspec": {
      "name": "python3",
      "display_name": "Python 3"
    },
    "language_info": {
      "name": "python"
    }
  },
  "cells": [
    {
      "cell_type": "markdown",
      "metadata": {
        "id": "view-in-github",
        "colab_type": "text"
      },
      "source": [
        "<a href=\"https://colab.research.google.com/github/Deepsphere-AI/Applied-Artificial-Intelligence-for-Schools/blob/master/Intermediate%20Level/Exercise%20lab%2031%20-%2040/Ten_PPT_33.ipynb\" target=\"_parent\"><img src=\"https://colab.research.google.com/assets/colab-badge.svg\" alt=\"Open In Colab\"/></a>"
      ]
    },
    {
      "cell_type": "code",
      "execution_count": null,
      "metadata": {
        "id": "nLYSrKprKv1p"
      },
      "outputs": [],
      "source": [
        "\"\"\"\n",
        "Ex 33.\n",
        "\n",
        "Using np.std, find and print the standard deviation of this array.\n",
        "\"\"\"\n",
        "\n",
        "import numpy as np\n",
        "import random\n",
        "\n",
        "speed = np.array([])\n",
        "\n",
        "for x in range(13):\n",
        "  speed = np.append(speed,random.randint(60,120))\n",
        "\n",
        "mean = numpy.mean(speed)\n",
        "std = numpy.std(speed)\n",
        "\n",
        "print(speed)\n",
        "print(mean)\n",
        "print(std)"
      ]
    }
  ]
}