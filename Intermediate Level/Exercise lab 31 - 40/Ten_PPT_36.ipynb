{
  "nbformat": 4,
  "nbformat_minor": 0,
  "metadata": {
    "colab": {
      "provenance": [],
      "authorship_tag": "ABX9TyMdFaDNp8IAJFmGhl0Ad4hI",
      "include_colab_link": true
    },
    "kernelspec": {
      "name": "python3",
      "display_name": "Python 3"
    },
    "language_info": {
      "name": "python"
    }
  },
  "cells": [
    {
      "cell_type": "markdown",
      "metadata": {
        "id": "view-in-github",
        "colab_type": "text"
      },
      "source": [
        "<a href=\"https://colab.research.google.com/github/Deepsphere-AI/Applied-Artificial-Intelligence-for-Schools/blob/master/Intermediate%20Level/Exercise%20lab%2031%20-%2040/Ten_PPT_36.ipynb\" target=\"_parent\"><img src=\"https://colab.research.google.com/assets/colab-badge.svg\" alt=\"Open In Colab\"/></a>"
      ]
    },
    {
      "cell_type": "code",
      "execution_count": null,
      "metadata": {
        "id": "THPEKtvmP9dm"
      },
      "outputs": [],
      "source": [
        "\"\"\"\n",
        "Ex 36.\n",
        "\n",
        "Create a scatter plot with the tables: x_val = [5,7,8,7,2,17,2,9,4,11,12,9,6] and y_val = [99,86,87,88,111,86,103,87,94,78,77,85,86]\n",
        "\"\"\"\n",
        "\n",
        "import numpy as np\n",
        "import random\n",
        "import matplotlib.pyplot as plt\n",
        "\n",
        "speed = np.array([])\n",
        "\n",
        "for x in range(13):\n",
        "  speed = np.append(speed,random.randint(60,120))\n",
        "\n",
        "mean = np.mean(speed)\n",
        "std = np.std(speed)\n",
        "pct_75 = np.percentile(speed,75)\n",
        "pct_99 = np.percentile(speed,99)\n",
        "\n",
        "print(speed)\n",
        "print(mean)\n",
        "print(std)\n",
        "print(pct_75)\n",
        "print(pct_99)\n",
        "\n",
        "y = numpy.random.triangular (1,50, 100, 250000)\n",
        "\n",
        "x_val = [5,7,8,7,2,17,2,9,4,11,12,9,6]\n",
        "y_val = [99,86,87,88,111,86,103,87,94,78,77,85,86]\n",
        "\n",
        "plt.scatter(x_val, y_val)\n",
        "plt.show()"
      ]
    }
  ]
}