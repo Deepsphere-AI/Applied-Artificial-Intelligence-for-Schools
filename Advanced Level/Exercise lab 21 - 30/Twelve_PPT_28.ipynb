{
  "nbformat": 4,
  "nbformat_minor": 0,
  "metadata": {
    "colab": {
      "provenance": [],
      "authorship_tag": "ABX9TyM4FtjI7+ZfpkpwwEEVyrA5",
      "include_colab_link": true
    },
    "kernelspec": {
      "name": "python3",
      "display_name": "Python 3"
    },
    "language_info": {
      "name": "python"
    }
  },
  "cells": [
    {
      "cell_type": "markdown",
      "metadata": {
        "id": "view-in-github",
        "colab_type": "text"
      },
      "source": [
        "<a href=\"https://colab.research.google.com/github/Deepsphere-AI/Applied-Artificial-Intelligence-for-Schools/blob/master/Advanced%20Level/Exercise%20lab%2021%20-%2030/Twelve_PPT_28.ipynb\" target=\"_parent\"><img src=\"https://colab.research.google.com/assets/colab-badge.svg\" alt=\"Open In Colab\"/></a>"
      ]
    },
    {
      "cell_type": "code",
      "execution_count": null,
      "metadata": {
        "id": "Aj6F2kn-ego_"
      },
      "outputs": [],
      "source": [
        "\"\"\"\n",
        "Ex. 28\n",
        "\n",
        "Create a function random where it randomly creates and adds 5 letter words to word_list using self.words. The words don't have to make sense, they can just be a collection of letters that are 5 letters long.\n",
        "\"\"\"\n",
        "\n",
        "import random\n",
        "\n",
        "class Text:\n",
        "  word_list = []\n",
        "  words = 0\n",
        "\n",
        "  def __init__(self,x):\n",
        "    self.words = x\n",
        "  \n",
        "  def random(self):\n",
        "    letters = ['a', 'b', 'c', 'd', 'e', 'f', 'g', 'h', 'i', 'j', 'k', 'l', 'm', 'n', 'o', 'p', 'q', 'r', 's', 't', 'u', 'v', 'w', 'x', 'y', 'z']\n",
        "    for x in range(self.words):\n",
        "      temp = \"\"\n",
        "      for x in range(5):\n",
        "        temp = temp + letters[random.randint(0,25)]\n",
        "      self.word_list.append(temp)\n",
        "    return self.word_list\n",
        "\n",
        "class Word:\n",
        "  word = \"\"\n",
        "  letter_count = []\n",
        "  letters = []\n",
        "\n",
        "  def __init__(self, s1):\n",
        "    self.word = s1\n",
        "    self.to_letters()\n",
        "    self.count_letters()\n",
        "  \n",
        "  def to_letters(self):\n",
        "    self.letters.append(self.word[0])\n",
        "    for x in range(len(self.word)):\n",
        "      temp = True\n",
        "      for i in range(len(self.letters)):\n",
        "        if(self.word[x] == self.letters[i]):\n",
        "          temp = False\n",
        "          break\n",
        "      if temp:\n",
        "        self.letters.append(self.word[x])\n",
        "    return self.letters\n",
        "  \n",
        "  def count_letters(self):\n",
        "    for x in self.letters:\n",
        "      temp = 0\n",
        "      for i in range(len(self.word)):\n",
        "        if x == self.word[i]:\n",
        "          temp+=1\n",
        "      self.letter_count.append(temp)\n",
        "    return self.letter_count\n",
        "\n",
        "\n",
        "w1 = Word(\"Mississippi\")\n",
        "print(w1.to_letters())\n",
        "print(w1.count_letters())\n",
        "\n",
        "t1 = Text(10)\n",
        "t1.random()"
      ]
    }
  ]
}