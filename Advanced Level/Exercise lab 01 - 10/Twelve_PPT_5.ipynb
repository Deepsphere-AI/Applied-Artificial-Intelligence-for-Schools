{
  "nbformat": 4,
  "nbformat_minor": 0,
  "metadata": {
    "colab": {
      "provenance": [],
      "authorship_tag": "ABX9TyOiWVCkKVxr4hOH2kFz4HiX",
      "include_colab_link": true
    },
    "kernelspec": {
      "name": "python3",
      "display_name": "Python 3"
    },
    "language_info": {
      "name": "python"
    }
  },
  "cells": [
    {
      "cell_type": "markdown",
      "metadata": {
        "id": "view-in-github",
        "colab_type": "text"
      },
      "source": [
        "<a href=\"https://colab.research.google.com/github/Deepsphere-AI/Applied-Artificial-Intelligence-for-Schools/blob/master/Advanced%20Level/Exercise%20lab%2001%20-%2010/Twelve_PPT_5.ipynb\" target=\"_parent\"><img src=\"https://colab.research.google.com/assets/colab-badge.svg\" alt=\"Open In Colab\"/></a>"
      ]
    },
    {
      "cell_type": "code",
      "execution_count": null,
      "metadata": {
        "id": "sgFUGUB9SCS7"
      },
      "outputs": [],
      "source": [
        "\"\"\"\"\n",
        "\n",
        "Ex. 5\n",
        "\n",
        "Using round() in python, make sure all the price values and the sq_feet are rounded to 2 decimal places and the bed and bath is rounded to 1.\n",
        "\"\"\"\n",
        "\n",
        "class house:\n",
        "  bed = 0.0\n",
        "  bath = 0.0\n",
        "  price = 0.0\n",
        "  sq_feet = 0.0\n",
        "\n",
        "  def __init__(self, bed, bath, price, sq_feet):\n",
        "    self.bed = round(bed,1)\n",
        "    self.bath = round(bath,1)\n",
        "    self.price = round(price,2)\n",
        "    self.sq_feet = round(sq_feet,2)\n",
        "  \n",
        "  def yard_area(self):\n",
        "    return round((self.sq_feet - 2000 - (self.bed * 130) - (self.bath * 50)),2)\n",
        "  \n",
        "  def pp_sq_ft(self):\n",
        "    return round((self.price / self.sq_feet),2)\n",
        "\n"
      ]
    }
  ]
}