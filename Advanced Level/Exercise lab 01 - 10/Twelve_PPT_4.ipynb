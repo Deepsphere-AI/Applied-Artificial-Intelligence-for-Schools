{
  "nbformat": 4,
  "nbformat_minor": 0,
  "metadata": {
    "colab": {
      "provenance": [],
      "authorship_tag": "ABX9TyNBrDGXvoD9YSHYLaPIhmIQ",
      "include_colab_link": true
    },
    "kernelspec": {
      "name": "python3",
      "display_name": "Python 3"
    },
    "language_info": {
      "name": "python"
    }
  },
  "cells": [
    {
      "cell_type": "markdown",
      "metadata": {
        "id": "view-in-github",
        "colab_type": "text"
      },
      "source": [
        "<a href=\"https://colab.research.google.com/github/Deepsphere-AI/Applied-Artificial-Intelligence-for-Schools/blob/master/Advanced%20Level/Exercise%20lab%2001%20-%2010/Twelve_PPT_4.ipynb\" target=\"_parent\"><img src=\"https://colab.research.google.com/assets/colab-badge.svg\" alt=\"Open In Colab\"/></a>"
      ]
    },
    {
      "cell_type": "code",
      "execution_count": null,
      "metadata": {
        "id": "nDGy5rxRRt_h"
      },
      "outputs": [],
      "source": [
        "\"\"\"\"\n",
        "\n",
        "Ex. 4\n",
        "\n",
        "Create the function pp_sq_ft or price per square foot, which will calculate how much each sq_foot of the property costs based on the price of the house.\n",
        "\n",
        "\"\"\"\n",
        "\n",
        "class house:\n",
        "  bed = 0.0\n",
        "  bath = 0.0\n",
        "  price = 0.0\n",
        "  sq_feet = 0.0\n",
        "\n",
        "  def __init__(self, bed, bath, price, sq_feet):\n",
        "    self.bed = bed\n",
        "    self.bath = bath\n",
        "    self.price = price\n",
        "    self.sq_feet = sq_feet\n",
        "  \n",
        "  def yard_area(self):\n",
        "    return self.sq_feet - 2000 - (self.bed * 130) - (self.bath * 50)\n",
        "  \n",
        "  def pp_sq_ft(self):\n",
        "    return self.price / self.sq_feet\n"
      ]
    }
  ]
}