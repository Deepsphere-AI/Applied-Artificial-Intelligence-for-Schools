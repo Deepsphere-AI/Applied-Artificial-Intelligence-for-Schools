{
  "nbformat": 4,
  "nbformat_minor": 0,
  "metadata": {
    "colab": {
      "provenance": [],
      "authorship_tag": "ABX9TyO+PZf9u1EI5zfMklLDPxf/",
      "include_colab_link": true
    },
    "kernelspec": {
      "name": "python3",
      "display_name": "Python 3"
    },
    "language_info": {
      "name": "python"
    }
  },
  "cells": [
    {
      "cell_type": "markdown",
      "metadata": {
        "id": "view-in-github",
        "colab_type": "text"
      },
      "source": [
        "<a href=\"https://colab.research.google.com/github/Deepsphere-AI/Applied-Artificial-Intelligence-for-Schools/blob/master/Advanced%20Level/Exercise%20lab%2001%20-%2010/Twelve_PPT_3.ipynb\" target=\"_parent\"><img src=\"https://colab.research.google.com/assets/colab-badge.svg\" alt=\"Open In Colab\"/></a>"
      ]
    },
    {
      "cell_type": "code",
      "execution_count": null,
      "metadata": {
        "id": "Q7wfUVYoRab7"
      },
      "outputs": [],
      "source": [
        "\"\"\"\"\n",
        "\n",
        "Ex. 3\n",
        "\n",
        "Each bedroom requires at least 130 sq_feet and each bathroom requres at least 50 sq_feet. Assuming that there are 2000 sq feet in the house itself not part of the bed or bathrooms, create the function yard_area() that will return the remaining sq_feet of the property that is the yard area.\n",
        "\"\"\"\n",
        "\n",
        "class house:\n",
        "  bed = 0.0\n",
        "  bath = 0.0\n",
        "  price = 0.0\n",
        "  sq_feet = 0.0\n",
        "\n",
        "  def __init__(self, bed, bath, price, sq_feet):\n",
        "    self.bed = bed\n",
        "    self.bath = bath\n",
        "    self.price = price\n",
        "    self.sq_feet = sq_feet\n",
        "  \n",
        "  def yard_area(self):\n",
        "    return self.sq_feet - 2000 - (self.bed * 130) - (self.bath * 50)\n"
      ]
    }
  ]
}