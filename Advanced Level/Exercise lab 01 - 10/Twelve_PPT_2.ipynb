{
  "nbformat": 4,
  "nbformat_minor": 0,
  "metadata": {
    "colab": {
      "provenance": [],
      "authorship_tag": "ABX9TyNtC39k3Y+m+4h+cB/AZ2zI",
      "include_colab_link": true
    },
    "kernelspec": {
      "name": "python3",
      "display_name": "Python 3"
    },
    "language_info": {
      "name": "python"
    }
  },
  "cells": [
    {
      "cell_type": "markdown",
      "metadata": {
        "id": "view-in-github",
        "colab_type": "text"
      },
      "source": [
        "<a href=\"https://colab.research.google.com/github/Deepsphere-AI/Applied-Artificial-Intelligence-for-Schools/blob/master/Advanced%20Level/Exercise%20lab%2001%20-%2010/Twelve_PPT_2.ipynb\" target=\"_parent\"><img src=\"https://colab.research.google.com/assets/colab-badge.svg\" alt=\"Open In Colab\"/></a>"
      ]
    },
    {
      "cell_type": "code",
      "execution_count": null,
      "metadata": {
        "id": "BL2OQ5PBQjOf"
      },
      "outputs": [],
      "source": [
        "\"\"\"\"\n",
        "\n",
        "Ex. 2\n",
        "\n",
        "Create a constructor for the house class that will take in the four parameters listed above and set them equal to one another.\n",
        "\n",
        "\"\"\"\n",
        "\n",
        "class house:\n",
        "  bed = 0.0\n",
        "  bath = 0.0\n",
        "  price = 0.0\n",
        "  sq_feet = 0.0\n",
        "\n",
        "  def __init__(self, bed, bath, price, sq_feet):\n",
        "    self.bed = bed\n",
        "    self.bath = bath\n",
        "    self.price = price\n",
        "    self.sq_feet = sq_feet"
      ]
    }
  ]
}