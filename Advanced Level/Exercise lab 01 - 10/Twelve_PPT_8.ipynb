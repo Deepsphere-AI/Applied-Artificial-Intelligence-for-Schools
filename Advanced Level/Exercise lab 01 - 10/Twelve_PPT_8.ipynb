{
  "nbformat": 4,
  "nbformat_minor": 0,
  "metadata": {
    "colab": {
      "provenance": [],
      "authorship_tag": "ABX9TyNKfRA+UUK//vIkgZtFiphV",
      "include_colab_link": true
    },
    "kernelspec": {
      "name": "python3",
      "display_name": "Python 3"
    },
    "language_info": {
      "name": "python"
    }
  },
  "cells": [
    {
      "cell_type": "markdown",
      "metadata": {
        "id": "view-in-github",
        "colab_type": "text"
      },
      "source": [
        "<a href=\"https://colab.research.google.com/github/Deepsphere-AI/Applied-Artificial-Intelligence-for-Schools/blob/master/Advanced%20Level/Exercise%20lab%2001%20-%2010/Twelve_PPT_8.ipynb\" target=\"_parent\"><img src=\"https://colab.research.google.com/assets/colab-badge.svg\" alt=\"Open In Colab\"/></a>"
      ]
    },
    {
      "cell_type": "code",
      "execution_count": null,
      "metadata": {
        "id": "hYrkuxaFTiLB"
      },
      "outputs": [],
      "source": [
        "\"\"\"\"\n",
        "Ex. 8\n",
        "\n",
        "Add to the class a function called get_houses that returns the bed, bath, price, and sq_feet of each house with each line corresponding each house. You will need to edit the house class also.\"\"\"\n",
        "\n",
        "import random\n",
        "\n",
        "class house:\n",
        "  bed = 0.0\n",
        "  bath = 0.0\n",
        "  price = 0.0\n",
        "  sq_feet = 0.0\n",
        "\n",
        "  def __init__(self, bed, bath, price, sq_feet):\n",
        "    self.bed = round(bed,1)\n",
        "    self.bath = round(bath,1)\n",
        "    self.price = round(price,2)\n",
        "    self.sq_feet = round(sq_feet,2)\n",
        "  \n",
        "  def yard_area(self):\n",
        "    return round((self.sq_feet - 2000 - (self.bed * 130) - (self.bath * 50)),2)\n",
        "  \n",
        "  def pp_sq_ft(self):\n",
        "    return round((self.price / self.sq_feet),2)\n",
        "  \n",
        "  def get_values(self):\n",
        "    return \"Bed: \" + str(self.bed) + \" Bath: \" + str(self.bath) + \" Price: \" + str(self.price) + \" Square Feet: \" + str(self.sq_feet)\n",
        "\n",
        "class residential_area:\n",
        "  house_list = []\n",
        "  avg_price = 0.0\n",
        "  avg_sq_feet = 0.0\n",
        "\n",
        "  def __init__(self):\n",
        "    return\n",
        "  \n",
        "  def rand_house(self,x):\n",
        "    for i in range(x):\n",
        "      bed = float(random.randint(4,6))/2\n",
        "      bath = float(random.randint(4,6))/2\n",
        "      self.house_list.append(house(bed,bath,random.randrange(800000,1200000),random.randrange(4000,6000)))\n",
        "  \n",
        "  def get_houses(self):\n",
        "    out = \"\"\n",
        "    for x in self.house_list:\n",
        "      out = out + x.get_values() + '\\n'\n",
        "    return out\n",
        "\n",
        "r1 = residential_area()\n",
        "r1.rand_house(40)\n",
        "print(r1.get_houses())"
      ]
    }
  ]
}