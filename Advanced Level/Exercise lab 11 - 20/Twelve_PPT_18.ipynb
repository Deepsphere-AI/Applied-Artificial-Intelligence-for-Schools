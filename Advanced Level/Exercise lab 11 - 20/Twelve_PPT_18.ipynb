{
  "nbformat": 4,
  "nbformat_minor": 0,
  "metadata": {
    "colab": {
      "provenance": [],
      "authorship_tag": "ABX9TyO1uDKLnBySPeTabOfeXwvu",
      "include_colab_link": true
    },
    "kernelspec": {
      "name": "python3",
      "display_name": "Python 3"
    },
    "language_info": {
      "name": "python"
    }
  },
  "cells": [
    {
      "cell_type": "markdown",
      "metadata": {
        "id": "view-in-github",
        "colab_type": "text"
      },
      "source": [
        "<a href=\"https://colab.research.google.com/github/Deepsphere-AI/Applied-Artificial-Intelligence-for-Schools/blob/master/Advanced%20Level/Exercise%20lab%2011%20-%2020/Twelve_PPT_18.ipynb\" target=\"_parent\"><img src=\"https://colab.research.google.com/assets/colab-badge.svg\" alt=\"Open In Colab\"/></a>"
      ]
    },
    {
      "cell_type": "code",
      "execution_count": null,
      "metadata": {
        "id": "qC85ma4-ZPRg"
      },
      "outputs": [],
      "source": [
        "\"\"\"\"\"\n",
        "Ex. 18\n",
        "\n",
        "Create a linear regression model as before but change it so that there are 13 randomized y-values from 60 to 120 that are increasing and the x-values are also increasing.\n",
        "\"\"\"\n",
        "\n",
        "import numpy as np\n",
        "import random\n",
        "import matplotlib.pyplot as plt\n",
        "from scipy import stats\n",
        "\n",
        "speed = np.array([])\n",
        "\n",
        "for i in range(13):\n",
        "  speed = np.append(speed,random.randint(60,120))\n",
        "\n",
        "mean = np.mean(speed)\n",
        "std = np.std(speed)\n",
        "pct_75 = np.percentile(speed,75)\n",
        "pct_99 = np.percentile(speed,99)\n",
        "\n",
        "print(speed)\n",
        "print(mean)\n",
        "print(std)\n",
        "print(pct_75)\n",
        "print(pct_99)\n",
        "\n",
        "y = np.random.triangular (1,50, 100, 250000)\n",
        "\n",
        "x_val = [5,7,8,7,2,17,2,9,4,11,12,9,6]\n",
        "y_val = [99,86,87,88,111,86,103,87,94,78,77,85,86]\n",
        "\n",
        "x_val = np.sort(x_val)\n",
        "y_val = np.sort(speed)\n",
        "\n",
        "slope, intercept, r, p, std_err = stats.linregress(x_val, y_val)\n",
        "\n",
        "def myfunc(x):\n",
        "  return slope * x + intercept\n",
        "\n",
        "mymodel = list(map(myfunc, x_val))\n",
        "\n",
        "plt.scatter(x_val, y_val)\n",
        "plt.plot(x_val, mymodel)\n",
        "plt.show()"
      ]
    }
  ]
}