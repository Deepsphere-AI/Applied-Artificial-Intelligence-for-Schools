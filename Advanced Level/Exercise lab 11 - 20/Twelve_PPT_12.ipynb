{
  "nbformat": 4,
  "nbformat_minor": 0,
  "metadata": {
    "colab": {
      "provenance": [],
      "authorship_tag": "ABX9TyNVIOB58ygMOmeA79Gzwql6",
      "include_colab_link": true
    },
    "kernelspec": {
      "name": "python3",
      "display_name": "Python 3"
    },
    "language_info": {
      "name": "python"
    }
  },
  "cells": [
    {
      "cell_type": "markdown",
      "metadata": {
        "id": "view-in-github",
        "colab_type": "text"
      },
      "source": [
        "<a href=\"https://colab.research.google.com/github/Deepsphere-AI/Applied-Artificial-Intelligence-for-Schools/blob/master/Advanced%20Level/Exercise%20lab%2011%20-%2020/Twelve_PPT_12.ipynb\" target=\"_parent\"><img src=\"https://colab.research.google.com/assets/colab-badge.svg\" alt=\"Open In Colab\"/></a>"
      ]
    },
    {
      "cell_type": "code",
      "execution_count": null,
      "metadata": {
        "id": "Rl4n3gTHVHXE"
      },
      "outputs": [],
      "source": [
        "\"\"\"\"\"\n",
        "Ex. 12\n",
        "\n",
        "Using np.mean, find and print the mean of this array.\n",
        "\"\"\"\n",
        "\n",
        "import numpy as np\n",
        "import random\n",
        "\n",
        "speed = np.array([])\n",
        "\n",
        "for x in range(13):\n",
        "  speed = np.append(speed,random.randint(60,120))\n",
        "\n",
        "mean = np.mean(speed)\n",
        "\n",
        "print(speed)\n",
        "print(mean)"
      ]
    }
  ]
}