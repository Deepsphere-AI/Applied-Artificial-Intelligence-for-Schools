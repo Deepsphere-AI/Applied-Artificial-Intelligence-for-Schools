{
  "nbformat": 4,
  "nbformat_minor": 0,
  "metadata": {
    "colab": {
      "provenance": [],
      "authorship_tag": "ABX9TyO2PE4sXa9AH2NyZShxba3J",
      "include_colab_link": true
    },
    "kernelspec": {
      "name": "python3",
      "display_name": "Python 3"
    },
    "language_info": {
      "name": "python"
    }
  },
  "cells": [
    {
      "cell_type": "markdown",
      "metadata": {
        "id": "view-in-github",
        "colab_type": "text"
      },
      "source": [
        "<a href=\"https://colab.research.google.com/github/Deepsphere-AI/Applied-Artificial-Intelligence-for-Schools/blob/master/Advanced%20Level/Exercise%20lab%2011%20-%2020/Twelve_PPT_16.ipynb\" target=\"_parent\"><img src=\"https://colab.research.google.com/assets/colab-badge.svg\" alt=\"Open In Colab\"/></a>"
      ]
    },
    {
      "cell_type": "code",
      "execution_count": null,
      "metadata": {
        "id": "OCoOEAK9XoAI"
      },
      "outputs": [],
      "source": [
        "\"\"\"\"\"\n",
        "Ex. 16\n",
        "\n",
        "Create a scatter plot with the tables: x_val = [5,7,8,7,2,17,2,9,4,11,12,9,6] and y_val = [99,86,87,88,111,86,103,87,94,78,77,85,86]\n",
        "\"\"\"\n",
        "\n",
        "import numpy as np\n",
        "import random\n",
        "import matplotlib.pyplot as plt\n",
        "\n",
        "speed = np.array([])\n",
        "\n",
        "for x in range(13):\n",
        "  speed = np.append(speed,random.randint(60,120))\n",
        "\n",
        "mean = np.mean(speed)\n",
        "std = np.std(speed)\n",
        "pct_75 = np.percentile(speed,75)\n",
        "pct_99 = np.percentile(speed,99)\n",
        "\n",
        "print(speed)\n",
        "print(mean)\n",
        "print(std)\n",
        "print(pct_75)\n",
        "print(pct_99)\n",
        "\n",
        "y = np.random.triangular (1,50, 100, 250000)\n",
        "\n",
        "x_val = [5,7,8,7,2,17,2,9,4,11,12,9,6]\n",
        "y_val = [99,86,87,88,111,86,103,87,94,78,77,85,86]\n",
        "\n",
        "plt.scatter(x_val, y_val)\n",
        "plt.show()"
      ]
    }
  ]
}