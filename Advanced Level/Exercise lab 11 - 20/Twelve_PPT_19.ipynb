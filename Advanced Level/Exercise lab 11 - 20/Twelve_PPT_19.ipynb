{
  "nbformat": 4,
  "nbformat_minor": 0,
  "metadata": {
    "colab": {
      "provenance": [],
      "authorship_tag": "ABX9TyPCByeZzzTlOka8ld493YnD",
      "include_colab_link": true
    },
    "kernelspec": {
      "name": "python3",
      "display_name": "Python 3"
    },
    "language_info": {
      "name": "python"
    }
  },
  "cells": [
    {
      "cell_type": "markdown",
      "metadata": {
        "id": "view-in-github",
        "colab_type": "text"
      },
      "source": [
        "<a href=\"https://colab.research.google.com/github/Deepsphere-AI/Applied-Artificial-Intelligence-for-Schools/blob/master/Advanced%20Level/Exercise%20lab%2011%20-%2020/Twelve_PPT_19.ipynb\" target=\"_parent\"><img src=\"https://colab.research.google.com/assets/colab-badge.svg\" alt=\"Open In Colab\"/></a>"
      ]
    },
    {
      "cell_type": "code",
      "execution_count": null,
      "metadata": {
        "id": "2yNaw9djbE0M"
      },
      "outputs": [],
      "source": [
        "\"\"\"\"\"\n",
        "Ex. 19\n",
        "\n",
        "Create a new plot of 10 x and y values completely randomized from 1 to 100.\n",
        "\"\"\"\n",
        "\n",
        "import numpy as np\n",
        "import matplotlib.pyplot as plt\n",
        "from scipy import stats\n",
        "import random\n",
        "\n",
        "x = []\n",
        "y = []\n",
        "\n",
        "for i in range(10):\n",
        "  x = np.append(x,[random.randint(1,100)])\n",
        "\n",
        "for j in range(10):\n",
        "  y = np.append(y,[random.randint(1,100)])\n",
        "plt.scatter(x, y)\n",
        "plt.show()"
      ]
    }
  ]
}