{
  "nbformat": 4,
  "nbformat_minor": 0,
  "metadata": {
    "colab": {
      "provenance": [],
      "authorship_tag": "ABX9TyPGK2D30nUShhdVo+bz1CAB",
      "include_colab_link": true
    },
    "kernelspec": {
      "name": "python3",
      "display_name": "Python 3"
    },
    "language_info": {
      "name": "python"
    }
  },
  "cells": [
    {
      "cell_type": "markdown",
      "metadata": {
        "id": "view-in-github",
        "colab_type": "text"
      },
      "source": [
        "<a href=\"https://colab.research.google.com/github/Deepsphere-AI/Applied-Artificial-Intelligence-for-Schools/blob/master/Advanced%20Level/Exercise%20lab%2031%20-%2040/Twelve_PPT_35.ipynb\" target=\"_parent\"><img src=\"https://colab.research.google.com/assets/colab-badge.svg\" alt=\"Open In Colab\"/></a>"
      ]
    },
    {
      "cell_type": "code",
      "execution_count": null,
      "metadata": {
        "id": "M1IpjtqMioG5"
      },
      "outputs": [],
      "source": [
        "\"\"\"\n",
        "Ex. 35\n",
        "\n",
        "Create a function Least_Expensive() which will details of the least expensive house.\n",
        "\"\"\"\n",
        "\n",
        "import pandas as pd\n",
        "import numpy as np\n",
        "\n",
        "class Data_Analyzer:\n",
        "  name = \"\"\n",
        "  columns = []\n",
        "\n",
        "  def __init__(self,name):\n",
        "    self.name = name + \".csv\"\n",
        "  \n",
        "  def open(self):\n",
        "    return pd.read_csv(self.name)\n",
        "\n",
        "  def Most_Expensive(self):\n",
        "    return max(open(self.name)) \n",
        "  \n",
        "  def Least_Expensive(self):\n",
        "    return min(open(self.name)) \n",
        "\n",
        "d1 = Data_Analyzer(\"homes\")\n",
        "print(d1.open())\n",
        "print(d1.Most_Expensive())\n",
        "print(d1.Least_Expensive())"
      ]
    }
  ]
}