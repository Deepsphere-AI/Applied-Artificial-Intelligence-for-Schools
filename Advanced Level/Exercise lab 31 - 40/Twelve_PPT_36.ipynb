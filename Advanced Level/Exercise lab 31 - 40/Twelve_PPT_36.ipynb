{
  "nbformat": 4,
  "nbformat_minor": 0,
  "metadata": {
    "colab": {
      "provenance": [],
      "authorship_tag": "ABX9TyONe5UawqpxSYaX9VxjmTDQ",
      "include_colab_link": true
    },
    "kernelspec": {
      "name": "python3",
      "display_name": "Python 3"
    },
    "language_info": {
      "name": "python"
    }
  },
  "cells": [
    {
      "cell_type": "markdown",
      "metadata": {
        "id": "view-in-github",
        "colab_type": "text"
      },
      "source": [
        "<a href=\"https://colab.research.google.com/github/Deepsphere-AI/Applied-Artificial-Intelligence-for-Schools/blob/master/Advanced%20Level/Exercise%20lab%2031%20-%2040/Twelve_PPT_36.ipynb\" target=\"_parent\"><img src=\"https://colab.research.google.com/assets/colab-badge.svg\" alt=\"Open In Colab\"/></a>"
      ]
    },
    {
      "cell_type": "code",
      "execution_count": null,
      "metadata": {
        "id": "Fm-VXCuHi-NV"
      },
      "outputs": [],
      "source": [
        "\"\"\"\n",
        "Ex. 36\n",
        "\n",
        "Now let's try and read a csv with the csv module in python. Create the same class as before with the same variabels and constructor (excluding the functions), and import csv.\n",
        "\"\"\"\n",
        "\n",
        "import csv\n",
        "\n",
        "class Data_Analyzer:\n",
        "  name = \"\"\n",
        "  columns = []\n",
        "\n",
        "  def __init__(self,name):\n",
        "    self.name = name + \".csv\"\n",
        "\n",
        "d1 = Data_Analyzer(\"homes\")"
      ]
    }
  ]
}