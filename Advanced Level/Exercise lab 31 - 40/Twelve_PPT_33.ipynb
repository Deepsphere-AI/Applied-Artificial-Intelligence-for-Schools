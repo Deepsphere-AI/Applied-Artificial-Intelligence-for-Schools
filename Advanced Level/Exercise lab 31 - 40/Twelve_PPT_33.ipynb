{
  "nbformat": 4,
  "nbformat_minor": 0,
  "metadata": {
    "colab": {
      "provenance": [],
      "authorship_tag": "ABX9TyMWlCU9whKvY7tQUW1Av3yM",
      "include_colab_link": true
    },
    "kernelspec": {
      "name": "python3",
      "display_name": "Python 3"
    },
    "language_info": {
      "name": "python"
    }
  },
  "cells": [
    {
      "cell_type": "markdown",
      "metadata": {
        "id": "view-in-github",
        "colab_type": "text"
      },
      "source": [
        "<a href=\"https://colab.research.google.com/github/Deepsphere-AI/Applied-Artificial-Intelligence-for-Schools/blob/master/Advanced%20Level/Exercise%20lab%2031%20-%2040/Twelve_PPT_33.ipynb\" target=\"_parent\"><img src=\"https://colab.research.google.com/assets/colab-badge.svg\" alt=\"Open In Colab\"/></a>"
      ]
    },
    {
      "cell_type": "code",
      "execution_count": null,
      "metadata": {
        "id": "3x1QbbRxhu6M"
      },
      "outputs": [],
      "source": [
        "\"\"\"\n",
        "Ex. 33\n",
        "\n",
        "Import pandas. Create a function open which will use pandas.read_csv to open a csv and return it. Then create a variable called csv at the top which will hold the output of pandas_read_csv.\n",
        "\"\"\"\n",
        "\n",
        "import pandas as pd\n",
        "\n",
        "class Data_Analyzer:\n",
        "  name = \"\"\n",
        "  columns = []\n",
        "\n",
        "  def __init__(self,name):\n",
        "    self.name = name + \".csv\"\n",
        "  \n",
        "  def open(self):\n",
        "    return pd.read_csv(self.name)\n",
        "\n",
        "d1 = Data_Analyzer(\"homes\")\n",
        "print(d1.open())"
      ]
    }
  ]
}