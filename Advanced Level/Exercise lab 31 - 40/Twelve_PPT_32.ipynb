{
  "nbformat": 4,
  "nbformat_minor": 0,
  "metadata": {
    "colab": {
      "provenance": [],
      "authorship_tag": "ABX9TyM30roE6gV5S1Ue3TjbH5FT",
      "include_colab_link": true
    },
    "kernelspec": {
      "name": "python3",
      "display_name": "Python 3"
    },
    "language_info": {
      "name": "python"
    }
  },
  "cells": [
    {
      "cell_type": "markdown",
      "metadata": {
        "id": "view-in-github",
        "colab_type": "text"
      },
      "source": [
        "<a href=\"https://colab.research.google.com/github/Deepsphere-AI/Applied-Artificial-Intelligence-for-Schools/blob/master/Advanced%20Level/Exercise%20lab%2031%20-%2040/Twelve_PPT_32.ipynb\" target=\"_parent\"><img src=\"https://colab.research.google.com/assets/colab-badge.svg\" alt=\"Open In Colab\"/></a>"
      ]
    },
    {
      "cell_type": "code",
      "execution_count": null,
      "metadata": {
        "id": "xnYDql53hcEJ"
      },
      "outputs": [],
      "source": [
        "\"\"\"\n",
        "Ex. 32\n",
        "\n",
        "Create a constructor which takes in a name and sets it equal to the class's name variable, but adds .csv to the name passed in. Ie, Data_Analyzer(\"homes\") should set the name value to \"homes.csv\"\n",
        "\"\"\"\n",
        "\n",
        "class Data_Analyzer:\n",
        "  name = \"\"\n",
        "  columns = []\n",
        "\n",
        "  def __init__(self,name):\n",
        "    self.name = name + \".csv\"\n",
        "\n",
        "d1 = Data_Analyzer(\"homes\")"
      ]
    }
  ]
}