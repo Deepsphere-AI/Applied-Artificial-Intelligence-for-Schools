{
  "nbformat": 4,
  "nbformat_minor": 0,
  "metadata": {
    "colab": {
      "provenance": [],
      "authorship_tag": "ABX9TyP9AZ45EWoRBya7je0SLuHd",
      "include_colab_link": true
    },
    "kernelspec": {
      "name": "python3",
      "display_name": "Python 3"
    },
    "language_info": {
      "name": "python"
    }
  },
  "cells": [
    {
      "cell_type": "markdown",
      "metadata": {
        "id": "view-in-github",
        "colab_type": "text"
      },
      "source": [
        "<a href=\"https://colab.research.google.com/github/Deepsphere-AI/Applied-Artificial-Intelligence-for-Schools/blob/master/Advanced%20Level/Exercise%20lab%2031%20-%2040/Twelve_PPT_34.ipynb\" target=\"_parent\"><img src=\"https://colab.research.google.com/assets/colab-badge.svg\" alt=\"Open In Colab\"/></a>"
      ]
    },
    {
      "cell_type": "code",
      "execution_count": null,
      "metadata": {
        "id": "3viOdS94iGuf"
      },
      "outputs": [],
      "source": [
        "\"\"\"\n",
        "Ex. 34 \n",
        "\n",
        "Create a function Most_Expensive() which will details of the most expensive house.\n",
        "\"\"\"\n",
        "\n",
        "import pandas as pd\n",
        "\n",
        "class Data_Analyzer:\n",
        "  name = \"\"\n",
        "  columns = []\n",
        "\n",
        "  def __init__(self,name):\n",
        "    self.name = name + \".csv\"\n",
        "  \n",
        "  def open(self):\n",
        "    return pd.read_csv(self.name)\n",
        "\n",
        "  def Most_Expensive(self):\n",
        "    return max(open(self.name)) \n",
        "\n",
        "d1 = Data_Analyzer(\"homes\")\n",
        "print(d1.open())\n",
        "print(d1.Most_Expensive())"
      ]
    }
  ]
}