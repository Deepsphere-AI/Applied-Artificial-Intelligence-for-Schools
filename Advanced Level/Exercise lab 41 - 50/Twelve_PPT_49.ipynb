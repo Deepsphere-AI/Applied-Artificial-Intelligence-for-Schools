{
  "nbformat": 4,
  "nbformat_minor": 0,
  "metadata": {
    "colab": {
      "provenance": [],
      "authorship_tag": "ABX9TyNg5SgzEam2h/fC9CRsUp89",
      "include_colab_link": true
    },
    "kernelspec": {
      "name": "python3",
      "display_name": "Python 3"
    },
    "language_info": {
      "name": "python"
    }
  },
  "cells": [
    {
      "cell_type": "markdown",
      "metadata": {
        "id": "view-in-github",
        "colab_type": "text"
      },
      "source": [
        "<a href=\"https://colab.research.google.com/github/Deepsphere-AI/Applied-Artificial-Intelligence-for-Schools/blob/master/Advanced%20Level/Exercise%20lab%2041%20-%2050/Twelve_PPT_49.ipynb\" target=\"_parent\"><img src=\"https://colab.research.google.com/assets/colab-badge.svg\" alt=\"Open In Colab\"/></a>"
      ]
    },
    {
      "cell_type": "code",
      "execution_count": null,
      "metadata": {
        "id": "AOOkYU8p5ZXV"
      },
      "outputs": [],
      "source": [
        "\"\"\"\n",
        "Ex. 49\n",
        "\n",
        "Create the function random which will return an array of x randomly assigned numbers from a given range.\n",
        "\"\"\"\n",
        "\n",
        "import numpy as np\n",
        "import matplotlib.pyplot as plt\n",
        "import random\n",
        "\n",
        "class Data_Plotter:\n",
        "  type = \"\"\n",
        "  X = np.array([])\n",
        "  Y = np.array([])\n",
        "\n",
        "  def __init__(self, type, x, y):\n",
        "    self.type = type\n",
        "    self.X = x\n",
        "    self.Y = y\n",
        "  \n",
        "  def bar(self):\n",
        "    plt.bar(self.X, self.Y)\n",
        "  \n",
        "  def hist(self):\n",
        "    plt.hist(self.Y)\n",
        "  \n",
        "  def pie(self):\n",
        "    plt.pie(self.Y)\n",
        "  \n",
        "  def line(self):\n",
        "    plt.plot(self.X,self.Y)\n",
        "  \n",
        "  def plot(self):\n",
        "    if(self.type.lower()== \"bar\"):\n",
        "      self.bar()\n",
        "    elif(self.type.lower()== \"line\"):\n",
        "      self.line()\n",
        "    elif(self.type.lower()== \"pie\"):\n",
        "      self.pie()\n",
        "    else:\n",
        "      self.hist()\n",
        "  \n",
        "  def change_type(self, type):\n",
        "    self.type = type\n",
        "  \n",
        "  def random(self,x, lower,upper):\n",
        "    arr = []\n",
        "    for i in range(x):\n",
        "      arr.append(random.randrange(lower,upper))\n",
        "    return arr\n",
        "    \n",
        "\n",
        "dp1 = Data_Plotter(\"Line\", [1,2,3,4], [43,23,27,7])\n",
        "dp1.plot()\n",
        "dp1.change_type(\"Bar\")\n",
        "dp1.plot()\n",
        "print(dp1.random(10,0,10))"
      ]
    }
  ]
}