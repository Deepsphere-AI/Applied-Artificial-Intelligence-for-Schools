{
  "nbformat": 4,
  "nbformat_minor": 0,
  "metadata": {
    "colab": {
      "provenance": [],
      "authorship_tag": "ABX9TyNckFXlZ9Fhv+t72hTmuiMv",
      "include_colab_link": true
    },
    "kernelspec": {
      "name": "python3",
      "display_name": "Python 3"
    },
    "language_info": {
      "name": "python"
    }
  },
  "cells": [
    {
      "cell_type": "markdown",
      "metadata": {
        "id": "view-in-github",
        "colab_type": "text"
      },
      "source": [
        "<a href=\"https://colab.research.google.com/github/Deepsphere-AI/Applied-Artificial-Intelligence-for-Schools/blob/master/Advanced%20Level/Exercise%20lab%2041%20-%2050/Twelve_PPT_45.ipynb\" target=\"_parent\"><img src=\"https://colab.research.google.com/assets/colab-badge.svg\" alt=\"Open In Colab\"/></a>"
      ]
    },
    {
      "cell_type": "code",
      "execution_count": null,
      "metadata": {
        "id": "tGN0NBg0rrfW"
      },
      "outputs": [],
      "source": [
        "\"\"\"\n",
        "Ex. 45\n",
        "\n",
        "Create a function pie that plots a pie chart with the Y values.\n",
        "\"\"\"\n",
        "\n",
        "import numpy as np\n",
        "import matplotlib.pyplot as plt\n",
        "\n",
        "class Data_Plotter:\n",
        "  type = \"\"\n",
        "  X = np.array([])\n",
        "  Y = np.array([])\n",
        "\n",
        "  def __init__(self, type, x, y):\n",
        "    self.type = type\n",
        "    self.X = x\n",
        "    self.Y = y\n",
        "  \n",
        "  def bar(self):\n",
        "    plt.bar(self.X, self.Y)\n",
        "  \n",
        "  def hist(self):\n",
        "    plt.hist(self.Y)\n",
        "  \n",
        "  def pie(self):\n",
        "    plt.pie(self.Y)\n",
        "\n",
        "dp1 = Data_Plotter(\"Bar\", [\"A\", \"B\", \"C\", \"D\"], [43,23,27,7])\n",
        "dp1.pie()"
      ]
    }
  ]
}