{
  "nbformat": 4,
  "nbformat_minor": 0,
  "metadata": {
    "colab": {
      "provenance": [],
      "authorship_tag": "ABX9TyMbKUB5+AuTvVNzkXMODhwc",
      "include_colab_link": true
    },
    "kernelspec": {
      "name": "python3",
      "display_name": "Python 3"
    },
    "language_info": {
      "name": "python"
    }
  },
  "cells": [
    {
      "cell_type": "markdown",
      "metadata": {
        "id": "view-in-github",
        "colab_type": "text"
      },
      "source": [
        "<a href=\"https://colab.research.google.com/github/Deepsphere-AI/Applied-Artificial-Intelligence-for-Schools/blob/master/Foundation%20Level/Exercise%20lab%201%20-%2024/Eight_PPT_11.ipynb\" target=\"_parent\"><img src=\"https://colab.research.google.com/assets/colab-badge.svg\" alt=\"Open In Colab\"/></a>"
      ]
    },
    {
      "cell_type": "code",
      "execution_count": null,
      "metadata": {
        "id": "kOUUesJQWKGw"
      },
      "outputs": [],
      "source": [
        "\"\"\"\n",
        "Ex 11.\n",
        "\n",
        "Given a list of integer numbers, return the amount of numbers in that list that are even.\n",
        "\n",
        "Program Description: The objective of this program is to create a function that returns the amount of even numbers present in the integer list inputted by the user.\n",
        "\n",
        "\"\"\"\n",
        "\n",
        "numbers = [1,2,3,4,5,6,7,8] # can be any list, this is just an example\n",
        "def count_evens(numbers):\n",
        "  count = 0\n",
        "  for x in numbers:\n",
        "    if x % 2 == 0:\n",
        "      count+=1\n",
        "  return count"
      ]
    }
  ]
}