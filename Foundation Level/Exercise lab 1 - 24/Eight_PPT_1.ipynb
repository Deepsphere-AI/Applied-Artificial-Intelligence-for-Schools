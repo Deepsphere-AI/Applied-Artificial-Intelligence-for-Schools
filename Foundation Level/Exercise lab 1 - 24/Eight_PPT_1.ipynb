{
  "nbformat": 4,
  "nbformat_minor": 0,
  "metadata": {
    "colab": {
      "provenance": [],
      "authorship_tag": "ABX9TyOg624QEEBSspLkTBWYHnQ+",
      "include_colab_link": true
    },
    "kernelspec": {
      "name": "python3",
      "display_name": "Python 3"
    },
    "language_info": {
      "name": "python"
    }
  },
  "cells": [
    {
      "cell_type": "markdown",
      "metadata": {
        "id": "view-in-github",
        "colab_type": "text"
      },
      "source": [
        "<a href=\"https://colab.research.google.com/github/Deepsphere-AI/Applied-Artificial-Intelligence-for-Schools/blob/master/Foundation%20Level/Exercise%20lab%201%20-%2024/Eight_PPT_1.ipynb\" target=\"_parent\"><img src=\"https://colab.research.google.com/assets/colab-badge.svg\" alt=\"Open In Colab\"/></a>"
      ]
    },
    {
      "cell_type": "code",
      "execution_count": null,
      "metadata": {
        "id": "LeCCPnn0Ed9V"
      },
      "outputs": [],
      "source": [
        "\"\"\"\n",
        "Ex 1.\n",
        "\n",
        "Print whether a number is even or odd\n",
        "\n",
        "Program description : The objective of this program is to declare a variable “input_num” and initializing the integer data value of 141using the looping statement “ifelse”.\n",
        "We will be checking whether a number is odd or even. If “input_num”\n",
        "Mod 2 == 0 then print even or print the statement in else statement.\n",
        "\n",
        "Remember: % symbol is a percentage symbol it is used for finding remainders.\n",
        "Note: “%” is also called Modulo or Python modulo.\n",
        "\n",
        "\"\"\"\n",
        "\n",
        "input_num = 141\n",
        "if(input_num%2 == 0):\n",
        "  print(\"even\")\n",
        "else:\n",
        "  print(\"odd\")"
      ]
    }
  ]
}