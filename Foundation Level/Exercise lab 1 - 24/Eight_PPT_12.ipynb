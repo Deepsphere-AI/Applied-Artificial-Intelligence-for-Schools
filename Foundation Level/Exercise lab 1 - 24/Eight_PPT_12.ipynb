{
  "nbformat": 4,
  "nbformat_minor": 0,
  "metadata": {
    "colab": {
      "provenance": [],
      "authorship_tag": "ABX9TyP4dU5K6X+WO385W2S6SeCi",
      "include_colab_link": true
    },
    "kernelspec": {
      "name": "python3",
      "display_name": "Python 3"
    },
    "language_info": {
      "name": "python"
    }
  },
  "cells": [
    {
      "cell_type": "markdown",
      "metadata": {
        "id": "view-in-github",
        "colab_type": "text"
      },
      "source": [
        "<a href=\"https://colab.research.google.com/github/Deepsphere-AI/Applied-Artificial-Intelligence-for-Schools/blob/master/Foundation%20Level/Exercise%20lab%201%20-%2024/Eight_PPT_12.ipynb\" target=\"_parent\"><img src=\"https://colab.research.google.com/assets/colab-badge.svg\" alt=\"Open In Colab\"/></a>"
      ]
    },
    {
      "cell_type": "code",
      "execution_count": null,
      "metadata": {
        "id": "CocJYjABWvK0"
      },
      "outputs": [],
      "source": [
        "\"\"\"\n",
        "Ex 12.\n",
        "\n",
        "Create a function that randomly Displays a numerical 4-digit password using random.randint(range).\n",
        "\n",
        "Program Description: The objective of this program is to create a function that randomly displays a numerical 4-digit password using random.randint(range) \n",
        "Note- For the program to work, the built-in module Random from the python libraries must be imported successfully.\n",
        "\n",
        "\"\"\"\n",
        "\n",
        "import random\n",
        "\n",
        "def randompassword():\n",
        "  a = random.randint(0,9)\n",
        "  b = random.randint(0,9)\n",
        "  c = random.randint(0,9)\n",
        "  d = random.randint(0,9)\n",
        "  return str(a) + str(b) + str(c) + str(d)\n",
        "\n",
        "print(randompassword())"
      ]
    }
  ]
}