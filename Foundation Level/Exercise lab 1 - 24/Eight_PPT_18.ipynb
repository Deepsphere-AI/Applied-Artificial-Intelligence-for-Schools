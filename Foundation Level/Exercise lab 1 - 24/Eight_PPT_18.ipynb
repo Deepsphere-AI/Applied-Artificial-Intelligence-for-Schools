{
  "nbformat": 4,
  "nbformat_minor": 0,
  "metadata": {
    "colab": {
      "provenance": [],
      "authorship_tag": "ABX9TyPKKpg+E6Rw0WKqNzqLiZno",
      "include_colab_link": true
    },
    "kernelspec": {
      "name": "python3",
      "display_name": "Python 3"
    },
    "language_info": {
      "name": "python"
    }
  },
  "cells": [
    {
      "cell_type": "markdown",
      "metadata": {
        "id": "view-in-github",
        "colab_type": "text"
      },
      "source": [
        "<a href=\"https://colab.research.google.com/github/Deepsphere-AI/Applied-Artificial-Intelligence-for-Schools/blob/master/Foundation%20Level/Exercise%20lab%201%20-%2024/Eight_PPT_18.ipynb\" target=\"_parent\"><img src=\"https://colab.research.google.com/assets/colab-badge.svg\" alt=\"Open In Colab\"/></a>"
      ]
    },
    {
      "cell_type": "code",
      "execution_count": null,
      "metadata": {
        "id": "_wgpMXScaBqA"
      },
      "outputs": [],
      "source": [
        "\"\"\"\n",
        "Ex 18.\n",
        "\n",
        "Program Description: The objective of this program is to create a class- classroom. Create the variables for class_size, student_list,average_age, and id_range. Input a few default values. Create a constructor which can take in a number for the classroom size and can use it   to create a list of students with the name \"Mark\", a random 6- digit id number, and either the age 14 or 15.\n",
        "\n",
        "Note- Make sure Random is successfully imported for the program to work\n",
        "\n",
        "\"\"\"\n",
        "\n",
        "import random\n",
        "\n",
        "class Student:\n",
        "  vAR_name = \"\"\n",
        "  vAR_id_number = 0\n",
        "  vAR_age = 0\n",
        "\n",
        "  def __init__(self, vAR_name, vAR_id_number, vAR_age):\n",
        "    self.name = vAR_name\n",
        "    self.id_number = vAR_id_number\n",
        "    self.age = vAR_age\n",
        "  \n",
        "  def get_name(self):\n",
        "    return self.name\n",
        "  \n",
        "  def get_id(self):\n",
        "    return self.id_number\n",
        "\n",
        "  def get_age(self):\n",
        "    return self.age\n",
        "\n",
        "\n",
        "class Classroom:\n",
        "  vAR_class_size = 0\n",
        "  vAR_student_list = []\n",
        "  vAR_average_age = 0\n",
        "  vAR_id_range = 0\n",
        "\n",
        "  def __init__(self, vAR_size):\n",
        "    self.class_size = vAR_size\n",
        "    for x in range(vAR_size):\n",
        "      self.vAR_student_list.append(Student(\"Mark\",random.randrange(100000,999999),random.randrange(14,15)))"
      ]
    }
  ]
}