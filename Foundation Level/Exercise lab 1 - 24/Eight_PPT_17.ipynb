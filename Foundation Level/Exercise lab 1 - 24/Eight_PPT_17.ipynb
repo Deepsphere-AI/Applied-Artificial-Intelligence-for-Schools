{
  "nbformat": 4,
  "nbformat_minor": 0,
  "metadata": {
    "colab": {
      "provenance": [],
      "authorship_tag": "ABX9TyPnzVO4k8GpObislW53d3YZ",
      "include_colab_link": true
    },
    "kernelspec": {
      "name": "python3",
      "display_name": "Python 3"
    },
    "language_info": {
      "name": "python"
    }
  },
  "cells": [
    {
      "cell_type": "markdown",
      "metadata": {
        "id": "view-in-github",
        "colab_type": "text"
      },
      "source": [
        "<a href=\"https://colab.research.google.com/github/Deepsphere-AI/Applied-Artificial-Intelligence-for-Schools/blob/master/Foundation%20Level/Exercise%20lab%201%20-%2024/Eight_PPT_17.ipynb\" target=\"_parent\"><img src=\"https://colab.research.google.com/assets/colab-badge.svg\" alt=\"Open In Colab\"/></a>"
      ]
    },
    {
      "cell_type": "code",
      "execution_count": null,
      "metadata": {
        "id": "LoBFepXTZL_n"
      },
      "outputs": [],
      "source": [
        "\"\"\"\n",
        "Ex 17.\n",
        "\n",
        "Program Desciption: The objective of this program is to create a class student. It should utilize the constructor with __init__(self,...) and the variables name, id_number, and age. Create functions to get the value and return them.\n",
        "\n",
        "\"\"\"\n",
        "\n",
        "class Student:\n",
        "  vAR_name = \"\"\n",
        "  vAR_id_number = 0\n",
        "  vAR_age = 0 \n",
        "\n",
        "  def __init__(self, vAR_name, vAR_id_number, vAR_age):\n",
        "    self.name = vAR_name\n",
        "    self.id_number = vAR_id_number\n",
        "    self.age = vAR_age\n",
        "  \n",
        "  def get_name(self):\n",
        "    return self.name\n",
        "  \n",
        "  def get_id(self):\n",
        "    return self.id_number\n",
        "\n",
        "  def get_age(self):\n",
        "    return self.age"
      ]
    }
  ]
}