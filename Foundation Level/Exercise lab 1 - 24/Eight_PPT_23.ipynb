{
  "nbformat": 4,
  "nbformat_minor": 0,
  "metadata": {
    "colab": {
      "provenance": [],
      "authorship_tag": "ABX9TyMt4GzSMD7nwL2Lc2pbLDPQ",
      "include_colab_link": true
    },
    "kernelspec": {
      "name": "python3",
      "display_name": "Python 3"
    },
    "language_info": {
      "name": "python"
    }
  },
  "cells": [
    {
      "cell_type": "markdown",
      "metadata": {
        "id": "view-in-github",
        "colab_type": "text"
      },
      "source": [
        "<a href=\"https://colab.research.google.com/github/Deepsphere-AI/Applied-Artificial-Intelligence-for-Schools/blob/master/Foundation%20Level/Exercise%20lab%201%20-%2024/Eight_PPT_23.ipynb\" target=\"_parent\"><img src=\"https://colab.research.google.com/assets/colab-badge.svg\" alt=\"Open In Colab\"/></a>"
      ]
    },
    {
      "cell_type": "code",
      "execution_count": null,
      "metadata": {
        "id": "J2wC2XI-gthS"
      },
      "outputs": [],
      "source": [
        "\"\"\"\n",
        "Ex 23.\n",
        "\n",
        "Program Description: The objective of this program is to create a function which will verify whether the user input id is the same as the id generated in program #21 and return a boolean.\n",
        "\n",
        "Remember: Boolean is either “True” or “False”\n",
        "\n",
        "\"\"\"\n",
        "\n",
        "import random\n",
        "\n",
        "class bank_account:\n",
        "  vAR_balance = 0\n",
        "  vAR_id_number = 0\n",
        "\n",
        "  def __init__(self, vAR_num):\n",
        "    self.balance = vAR_num\n",
        "    self.id_number = random.randrange(100000,999999)\n",
        "\n",
        "  def withdraw(self, vAR_num):\n",
        "    self.balance = self.balance - vAR_num\n",
        "    return self.balance\n",
        "  \n",
        "  def deposit(self, vAR_num):\n",
        "    self.balance = self.balance + vAR_num\n",
        "    return self.balance\n",
        "  \n",
        "  def verify(self):\n",
        "    return self.id_number == int(input(\"What is your id_number?\"))\n",
        "  \n",
        "  def get_id_num(self):\n",
        "    return self.id_number"
      ]
    }
  ]
}