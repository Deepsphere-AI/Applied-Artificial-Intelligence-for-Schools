{
  "nbformat": 4,
  "nbformat_minor": 0,
  "metadata": {
    "colab": {
      "provenance": [],
      "authorship_tag": "ABX9TyOrUcrFHTKZSQva0vM57MN8",
      "include_colab_link": true
    },
    "kernelspec": {
      "name": "python3",
      "display_name": "Python 3"
    },
    "language_info": {
      "name": "python"
    }
  },
  "cells": [
    {
      "cell_type": "markdown",
      "metadata": {
        "id": "view-in-github",
        "colab_type": "text"
      },
      "source": [
        "<a href=\"https://colab.research.google.com/github/Deepsphere-AI/Applied-Artificial-Intelligence-for-Schools/blob/master/Foundation%20Level/Exercise%20lab%201%20-%2024/Eight_PPT_22.ipynb\" target=\"_parent\"><img src=\"https://colab.research.google.com/assets/colab-badge.svg\" alt=\"Open In Colab\"/></a>"
      ]
    },
    {
      "cell_type": "code",
      "execution_count": null,
      "metadata": {
        "id": "7KiTZsIMhOgf"
      },
      "outputs": [],
      "source": [
        "\"\"\"\n",
        "Ex 22.\n",
        "\n",
        "Program Description: The objective of this program is to create two functions that will allow the user to withdraw or deposit money into the bank account (from the class in the previous program.)\n",
        "\n",
        "Note: The input will be taken as an integer\n",
        "\"\"\"\n",
        "\n",
        "import random\n",
        "\n",
        "class bank_account:\n",
        "  vAR_balance = 0\n",
        "  vAR_id_number = 0\n",
        "\n",
        "  def __init__(self, vAR_num):\n",
        "    self.balance = vAR_num\n",
        "    self.id_number = random.randrange(100000,999999)\n",
        "\n",
        "  def withdraw(self, vAR_num):\n",
        "    self.balance = self.balance - vAR_num\n",
        "    return self.balance\n",
        "  \n",
        "  def deposit(self, vAR_num):\n",
        "    self.balance = self.balance + vAR_num\n",
        "    return self.balance"
      ]
    }
  ]
}