{
  "nbformat": 4,
  "nbformat_minor": 0,
  "metadata": {
    "colab": {
      "provenance": [],
      "authorship_tag": "ABX9TyMvIGaV0a7gFQXxC9DReejo",
      "include_colab_link": true
    },
    "kernelspec": {
      "name": "python3",
      "display_name": "Python 3"
    },
    "language_info": {
      "name": "python"
    }
  },
  "cells": [
    {
      "cell_type": "markdown",
      "metadata": {
        "id": "view-in-github",
        "colab_type": "text"
      },
      "source": [
        "<a href=\"https://colab.research.google.com/github/Deepsphere-AI/Applied-Artificial-Intelligence-for-Schools/blob/master/Foundation%20Level/Exercise%20lab%201%20-%2024/Eight_PPT_5.ipynb\" target=\"_parent\"><img src=\"https://colab.research.google.com/assets/colab-badge.svg\" alt=\"Open In Colab\"/></a>"
      ]
    },
    {
      "cell_type": "code",
      "execution_count": null,
      "metadata": {
        "id": "hTCO9F6jR35K"
      },
      "outputs": [],
      "source": [
        "\"\"\"\n",
        "Ex 5.\n",
        "\n",
        "Using the list created in ex. 4, given the list, new_fruits = [\"Pineapple\", \"Watermelon\"], replace the corresponding value of fruits, with the corresponding values of new_fruits\n",
        "\n",
        "Program description : The objective of this program is using the list created in exercise -4 (fruits) Create another list named new_fruits which contains values Pineapple and watermelon and to replace the corresponding values of fruits with corresponding values of new_fruits.\n",
        "\n",
        "\"\"\"\n",
        "\n",
        "fruits = [\"Bannana\", \"Apple\", \"Peach\"]\n",
        "new_fruits = [\"Pineapple\", \"Watermelon\"]\n",
        "for x in range(len(new_fruits)):\n",
        "  fruits[x] = new_fruits[x]\n",
        "print(fruits)"
      ]
    }
  ]
}