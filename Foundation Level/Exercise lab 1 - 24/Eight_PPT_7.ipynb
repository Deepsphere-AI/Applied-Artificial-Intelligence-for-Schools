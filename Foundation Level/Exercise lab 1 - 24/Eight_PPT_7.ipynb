{
  "nbformat": 4,
  "nbformat_minor": 0,
  "metadata": {
    "colab": {
      "provenance": [],
      "authorship_tag": "ABX9TyPW07SaLOvz+iQ9/jkUEA27",
      "include_colab_link": true
    },
    "kernelspec": {
      "name": "python3",
      "display_name": "Python 3"
    },
    "language_info": {
      "name": "python"
    }
  },
  "cells": [
    {
      "cell_type": "markdown",
      "metadata": {
        "id": "view-in-github",
        "colab_type": "text"
      },
      "source": [
        "<a href=\"https://colab.research.google.com/github/Deepsphere-AI/Applied-Artificial-Intelligence-for-Schools/blob/master/Foundation%20Level/Exercise%20lab%201%20-%2024/Eight_PPT_7.ipynb\" target=\"_parent\"><img src=\"https://colab.research.google.com/assets/colab-badge.svg\" alt=\"Open In Colab\"/></a>"
      ]
    },
    {
      "cell_type": "code",
      "execution_count": null,
      "metadata": {
        "id": "22Iu4rtoSfnl"
      },
      "outputs": [],
      "source": [
        "\"\"\"\n",
        "Ex 7.\n",
        "\n",
        "Say an apple costs .59 cents and a pear costs .99 cents. Using user input and ommiting any taxes, find out how much it costs if one buys 3 apples and 4 pears.\n",
        "\n",
        "Program description : The objective of this program is to find out how much it costs if one buys 3 apples and 4 pears. If one apple costs 0.59 cents and one pear costs 0.99 cents. It will calculate the total amount.\n",
        "\n",
        "\"\"\"\n",
        "\n",
        "apples  = int(input(\"How many apples:\"))\n",
        "pears = int(input(\"How many pears:\"))\n",
        "\n",
        "print() #This is just so there is a space\n",
        "print(apples * .59 + pears * .99)"
      ]
    }
  ]
}