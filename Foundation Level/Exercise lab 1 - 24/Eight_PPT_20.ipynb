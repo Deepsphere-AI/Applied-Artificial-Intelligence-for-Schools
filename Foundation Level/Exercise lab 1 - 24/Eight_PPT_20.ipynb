{
  "nbformat": 4,
  "nbformat_minor": 0,
  "metadata": {
    "colab": {
      "provenance": [],
      "authorship_tag": "ABX9TyOcRq8ZIkg0gReSolKBjlRC",
      "include_colab_link": true
    },
    "kernelspec": {
      "name": "python3",
      "display_name": "Python 3"
    },
    "language_info": {
      "name": "python"
    }
  },
  "cells": [
    {
      "cell_type": "markdown",
      "metadata": {
        "id": "view-in-github",
        "colab_type": "text"
      },
      "source": [
        "<a href=\"https://colab.research.google.com/github/Deepsphere-AI/Applied-Artificial-Intelligence-for-Schools/blob/master/Foundation%20Level/Exercise%20lab%201%20-%2024/Eight_PPT_20.ipynb\" target=\"_parent\"><img src=\"https://colab.research.google.com/assets/colab-badge.svg\" alt=\"Open In Colab\"/></a>"
      ]
    },
    {
      "cell_type": "code",
      "execution_count": null,
      "metadata": {
        "id": "vtKEXrgnfv1b"
      },
      "outputs": [],
      "source": [
        "\"\"\"\n",
        "Ex 20.\n",
        "\n",
        "Program Description: The objective of this program is to create a function which will calculate the range of the id numbers (from programs 18 & 19.)\n",
        "\n",
        "Note: Range is the difference between the highest and lowest values.\n",
        "\n",
        "\"\"\"\n",
        "\n",
        "import random\n",
        "\n",
        "class Student:\n",
        "  vAR_name = \"\"\n",
        "  vAR_id_number = 0\n",
        "  vAR_age = 0\n",
        "\n",
        "  def __init__(self, vAR_name, vAR_id_number, vAR_age):\n",
        "    self.name = vAR_name\n",
        "    self.id_number = vAR_id_number\n",
        "    self.age = vAR_age\n",
        "  \n",
        "  def get_name(self):\n",
        "    return self.name\n",
        "  \n",
        "  def get_id(self):\n",
        "    return self.id_number\n",
        "\n",
        "  def get_age(self):\n",
        "    return self.age\n",
        "\n",
        "\n",
        "class Classroom:\n",
        "  vAR_class_size = 0\n",
        "  vAR_student_list = []\n",
        "  vAR_average_age = 0.0\n",
        "  vAR_id_range = 0\n",
        "\n",
        "  def __init__(self, vAR_size):\n",
        "    self.class_size = vAR_size\n",
        "    for x in range(vAR_size):\n",
        "      self.vAR_student_list.append(Student(\"Mark\",random.randrange(100000,999999),random.randrange(14,16)))\n",
        "  \n",
        "  def get_average_age(self):\n",
        "    vAR_total = 0\n",
        "    for x in self.vAR_student_list:\n",
        "      vAR_total = vAR_total + x.get_age()\n",
        "    self.average_age = vAR_total/self.class_size\n",
        "    return self.average_age\n",
        "\n",
        "  def calc_id_range(self):\n",
        "    min = 999999\n",
        "    max = 0\n",
        "    for x in self.vAR_student_list:\n",
        "      if(x.get_id() > max):\n",
        "        max = x.get_id()\n",
        "      elif(x.get_id() < min):\n",
        "        min = x.get_id()\n",
        "    self.id_range = max - min\n",
        "    return self.id_range\n",
        "\n",
        "\n",
        "\n",
        "\n",
        "me = Classroom(20)\n",
        "print(me.calc_id_range())"
      ]
    }
  ]
}