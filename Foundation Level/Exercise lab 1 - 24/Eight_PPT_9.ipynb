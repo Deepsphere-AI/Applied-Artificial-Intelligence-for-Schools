{
  "nbformat": 4,
  "nbformat_minor": 0,
  "metadata": {
    "colab": {
      "provenance": [],
      "authorship_tag": "ABX9TyPLr6DWbWl1obcYLvtquoG0",
      "include_colab_link": true
    },
    "kernelspec": {
      "name": "python3",
      "display_name": "Python 3"
    },
    "language_info": {
      "name": "python"
    }
  },
  "cells": [
    {
      "cell_type": "markdown",
      "metadata": {
        "id": "view-in-github",
        "colab_type": "text"
      },
      "source": [
        "<a href=\"https://colab.research.google.com/github/Deepsphere-AI/Applied-Artificial-Intelligence-for-Schools/blob/master/Foundation%20Level/Exercise%20lab%201%20-%2024/Eight_PPT_9.ipynb\" target=\"_parent\"><img src=\"https://colab.research.google.com/assets/colab-badge.svg\" alt=\"Open In Colab\"/></a>"
      ]
    },
    {
      "cell_type": "code",
      "execution_count": null,
      "metadata": {
        "id": "pjN_hAZATlia"
      },
      "outputs": [],
      "source": [
        "\"\"\"\n",
        "Ex 9.\n",
        "\n",
        "Create a function that scrambles the order of a sentence inputted by a user. The last and first word will be switched and the second word will be deleted. Use a switching algorithm in order to swich the first and last words. This excersise is more difficult then the previous one, but try your best!\n",
        "\n",
        "Program description: The objective of this program is is to create a function that scrambles the order of a sentence inputted by a user. The last and first word will will be switched and the second word will be deleted as such.In this program we use a switching algorithm in order to switch the first and last words. This exercise is more difficult then the previous one. But nothing is impossible!!\n",
        "Hint: Using the method .split(\" \") on a string will split the sentence into a list where each word occupies a slot.\n",
        "\n",
        "\"\"\"\n",
        "\n",
        "def sentence_scrambler(sent):\n",
        "  words = sent.split(\" \")\n",
        "  output = \"\"\n",
        "  #Below is a common switching algorithm\n",
        "  temp = words[0] #Temporarily stores value that will be replaced\n",
        "  words[0] = words[len(words)-1] # Replaces value 1 with value 2\n",
        "  words[len(words)-1] = temp # Replace value 2 with temp which stores value 1\n",
        "  words[1] = \"\"\n",
        "  for x in words:\n",
        "    output = output + x + \" \"\n",
        "  print(output)\n",
        "sentence_scrambler(\"The last and first word\")"
      ]
    }
  ]
}