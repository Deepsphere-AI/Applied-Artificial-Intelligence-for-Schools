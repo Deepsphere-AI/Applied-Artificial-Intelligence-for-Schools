{
  "nbformat": 4,
  "nbformat_minor": 0,
  "metadata": {
    "colab": {
      "provenance": [],
      "authorship_tag": "ABX9TyMwHXDPCjSwAs4VzieJiYkG",
      "include_colab_link": true
    },
    "kernelspec": {
      "name": "python3",
      "display_name": "Python 3"
    },
    "language_info": {
      "name": "python"
    }
  },
  "cells": [
    {
      "cell_type": "markdown",
      "metadata": {
        "id": "view-in-github",
        "colab_type": "text"
      },
      "source": [
        "<a href=\"https://colab.research.google.com/github/Deepsphere-AI/Applied-Artificial-Intelligence-for-Schools/blob/master/Foundation%20Level/Exercise%20lab%201%20-%2024/Eight_PPT_15.ipynb\" target=\"_parent\"><img src=\"https://colab.research.google.com/assets/colab-badge.svg\" alt=\"Open In Colab\"/></a>"
      ]
    },
    {
      "cell_type": "code",
      "execution_count": null,
      "metadata": {
        "id": "OaFtLb3gXj-g"
      },
      "outputs": [],
      "source": [
        "\"\"\"\n",
        "Ex 15.\n",
        "\n",
        "Program Description: The objective of this program is to create a function that will pass in 2 strings and output the second string inserted halfway in the first. Ex- Insert(“Apple”, “Orange”) = “ApOrangeple”\n",
        "\n",
        "Note- Do not forget to add (“  ”) for the strings\n",
        "\n",
        "\"\"\"\n",
        "\n",
        "vAR_str1 = \"Apple\"\n",
        "vAR_str2 = \"Orange\"\n",
        "\n",
        "def insert(vAR_str1, vAR_str2):\n",
        "  return vAR_str1[:int(len(vAR_str1)/2)] + vAR_str2 + vAR_str1[int(len(vAR_str1)/2):]\n",
        "\n",
        "print(insert(vAR_str1,vAR_str2))"
      ]
    }
  ]
}