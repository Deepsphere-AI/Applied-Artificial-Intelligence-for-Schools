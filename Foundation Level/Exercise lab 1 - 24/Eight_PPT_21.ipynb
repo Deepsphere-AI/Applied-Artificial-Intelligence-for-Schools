{
  "nbformat": 4,
  "nbformat_minor": 0,
  "metadata": {
    "colab": {
      "provenance": [],
      "authorship_tag": "ABX9TyOoDgWsbnmL1OLkcEa5xzjk",
      "include_colab_link": true
    },
    "kernelspec": {
      "name": "python3",
      "display_name": "Python 3"
    },
    "language_info": {
      "name": "python"
    }
  },
  "cells": [
    {
      "cell_type": "markdown",
      "metadata": {
        "id": "view-in-github",
        "colab_type": "text"
      },
      "source": [
        "<a href=\"https://colab.research.google.com/github/Deepsphere-AI/Applied-Artificial-Intelligence-for-Schools/blob/master/Foundation%20Level/Exercise%20lab%201%20-%2024/Eight_PPT_21.ipynb\" target=\"_parent\"><img src=\"https://colab.research.google.com/assets/colab-badge.svg\" alt=\"Open In Colab\"/></a>"
      ]
    },
    {
      "cell_type": "code",
      "execution_count": null,
      "metadata": {
        "id": "qJqYV8Urf907"
      },
      "outputs": [],
      "source": [
        "\"\"\"\n",
        "Ex 21.\n",
        "\n",
        "Program Description: The objective of this program is to create a bank account class which will ask for the balance and generate a random id.\n",
        "\n",
        "\"\"\"\n",
        "\n",
        "import random\n",
        "\n",
        "class bank_account:\n",
        "  vAR_balance = 0\n",
        "  vAR_id_number = 0\n",
        "\n",
        "  def __init__(self, vAR_num):\n",
        "    self.balance = vAR_num\n",
        "    self.id_number = random.randrange(100000,999999)"
      ]
    }
  ]
}