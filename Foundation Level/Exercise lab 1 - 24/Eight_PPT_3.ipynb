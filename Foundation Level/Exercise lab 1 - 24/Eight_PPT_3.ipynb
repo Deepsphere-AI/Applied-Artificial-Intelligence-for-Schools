{
  "nbformat": 4,
  "nbformat_minor": 0,
  "metadata": {
    "colab": {
      "provenance": [],
      "authorship_tag": "ABX9TyNAyaIvSxnuUL3gKKxIPFZd",
      "include_colab_link": true
    },
    "kernelspec": {
      "name": "python3",
      "display_name": "Python 3"
    },
    "language_info": {
      "name": "python"
    }
  },
  "cells": [
    {
      "cell_type": "markdown",
      "metadata": {
        "id": "view-in-github",
        "colab_type": "text"
      },
      "source": [
        "<a href=\"https://colab.research.google.com/github/Deepsphere-AI/Applied-Artificial-Intelligence-for-Schools/blob/master/Foundation%20Level/Exercise%20lab%201%20-%2024/Eight_PPT_3.ipynb\" target=\"_parent\"><img src=\"https://colab.research.google.com/assets/colab-badge.svg\" alt=\"Open In Colab\"/></a>"
      ]
    },
    {
      "cell_type": "code",
      "execution_count": null,
      "metadata": {
        "id": "-uJBhUszQoVt"
      },
      "outputs": [],
      "source": [
        "\"\"\"\n",
        "Ex 3.\n",
        "\n",
        "Write a loop to print out counting numbers from 0 - 9, but use ```while``` instead of for\n",
        "\n",
        "Program description : The objective of this program is to print the numbers in range using a while loop. Here we declare a variable “x” and initialize it as 0 and give it with a while condition that the value should be lesser than 10.and we also increment which is increasing the value of x by 1, each time the loop runs. And we print so each time the loop runs it will increase its value by 1 and check with the condition and if the condition satisfies its proceeds or if not, the loop terminates.\n",
        "Note: The value can also decrement by using the condition “x=x-1”. But for decrementing we have to initialize the value of x as 10.\n",
        "Try it out : Try printing 0-9 using a while loop by decrementing. \n",
        "\n",
        "\"\"\"\n",
        "\n",
        "x = 0\n",
        "while x < 10:\n",
        "  print(x)\n",
        "  x = x+1    \n",
        "  \n",
        "  #Or x+=1 also works"
      ]
    }
  ]
}