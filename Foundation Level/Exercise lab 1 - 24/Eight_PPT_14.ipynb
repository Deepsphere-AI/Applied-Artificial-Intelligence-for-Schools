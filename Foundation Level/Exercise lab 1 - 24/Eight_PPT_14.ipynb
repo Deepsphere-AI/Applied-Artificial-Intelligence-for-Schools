{
  "nbformat": 4,
  "nbformat_minor": 0,
  "metadata": {
    "colab": {
      "provenance": [],
      "authorship_tag": "ABX9TyOzQ/pmWsY0WvcGwXt0VZLT",
      "include_colab_link": true
    },
    "kernelspec": {
      "name": "python3",
      "display_name": "Python 3"
    },
    "language_info": {
      "name": "python"
    }
  },
  "cells": [
    {
      "cell_type": "markdown",
      "metadata": {
        "id": "view-in-github",
        "colab_type": "text"
      },
      "source": [
        "<a href=\"https://colab.research.google.com/github/Deepsphere-AI/Applied-Artificial-Intelligence-for-Schools/blob/master/Foundation%20Level/Exercise%20lab%201%20-%2024/Eight_PPT_14.ipynb\" target=\"_parent\"><img src=\"https://colab.research.google.com/assets/colab-badge.svg\" alt=\"Open In Colab\"/></a>"
      ]
    },
    {
      "cell_type": "code",
      "execution_count": null,
      "metadata": {
        "id": "t6EET0NyXW8g"
      },
      "outputs": [],
      "source": [
        "\"\"\"\n",
        "Ex 14.\n",
        "\n",
        "Program Description: The objective of this program is to create a function that will check whether the sum of a list that is inputted is equal to 21.\n",
        "\"\"\"\n",
        "\n",
        "check = [1,2,-3,3,3,4,5,6,2,-2]\n",
        "def sum21(list):\n",
        "  vAR_total = 0\n",
        "  for vAR_x in check:\n",
        "    vAR_total+=vAR_x\n",
        "  if(vAR_total == 21):\n",
        "    return True\n",
        "  else:\n",
        "    return False\n",
        "\n",
        "print(sum21(check))"
      ]
    }
  ]
}