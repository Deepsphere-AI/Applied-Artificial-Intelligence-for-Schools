{
  "nbformat": 4,
  "nbformat_minor": 0,
  "metadata": {
    "colab": {
      "provenance": [],
      "authorship_tag": "ABX9TyNaldtPNkze+NmUR78CXaY0",
      "include_colab_link": true
    },
    "kernelspec": {
      "name": "python3",
      "display_name": "Python 3"
    },
    "language_info": {
      "name": "python"
    }
  },
  "cells": [
    {
      "cell_type": "markdown",
      "metadata": {
        "id": "view-in-github",
        "colab_type": "text"
      },
      "source": [
        "<a href=\"https://colab.research.google.com/github/Deepsphere-AI/Applied-Artificial-Intelligence-for-Schools/blob/master/Foundation%20Level/Exercise%20lab%201%20-%2024/Eight_PPT_16.ipynb\" target=\"_parent\"><img src=\"https://colab.research.google.com/assets/colab-badge.svg\" alt=\"Open In Colab\"/></a>"
      ]
    },
    {
      "cell_type": "code",
      "execution_count": null,
      "metadata": {
        "id": "CNiP3hmuYJVm"
      },
      "outputs": [],
      "source": [
        "\"\"\"\n",
        "Ex 16.\n",
        "\n",
        "Program Description: The objective of this program is to create a function that will find the index of where the first time character ‘e’ appears in a string. \n",
        "\n",
        "Note- Use the function .index(‘e’) for successful execution of the program\n",
        "\"\"\"\n",
        "\n",
        "vAR_str = \"Where is there an e here?\"\n",
        "\n",
        "def indexOf(string):\n",
        "  return vAR_str.index('e')\n",
        "\n",
        "print(indexOf(vAR_str))"
      ]
    }
  ]
}