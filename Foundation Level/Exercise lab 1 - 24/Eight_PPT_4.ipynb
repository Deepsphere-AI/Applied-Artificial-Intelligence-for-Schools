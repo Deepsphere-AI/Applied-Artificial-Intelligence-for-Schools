{
  "nbformat": 4,
  "nbformat_minor": 0,
  "metadata": {
    "colab": {
      "provenance": [],
      "authorship_tag": "ABX9TyNm0jwjFh/bz+jB43QrsJBx",
      "include_colab_link": true
    },
    "kernelspec": {
      "name": "python3",
      "display_name": "Python 3"
    },
    "language_info": {
      "name": "python"
    }
  },
  "cells": [
    {
      "cell_type": "markdown",
      "metadata": {
        "id": "view-in-github",
        "colab_type": "text"
      },
      "source": [
        "<a href=\"https://colab.research.google.com/github/Deepsphere-AI/Applied-Artificial-Intelligence-for-Schools/blob/master/Foundation%20Level/Exercise%20lab%201%20-%2024/Eight_PPT_4.ipynb\" target=\"_parent\"><img src=\"https://colab.research.google.com/assets/colab-badge.svg\" alt=\"Open In Colab\"/></a>"
      ]
    },
    {
      "cell_type": "code",
      "execution_count": null,
      "metadata": {
        "id": "MVJN-focRjxg"
      },
      "outputs": [],
      "source": [
        "\"\"\"\n",
        "Ex 4.\n",
        "\n",
        "Create a list called fruits that stores the values \"Bannana\", \"Apple\", and \"Peach\"\n",
        "\n",
        "Program description : The objective of this program is to create a list named “fruits” which stores the values “Banana” , “Apple” and “Peach”.\n",
        "\n",
        "Note : In python a list is created by placing all the elements of the list inside square brackets [] and separated by commas.\n",
        "It can have an unlimited number of items and of different types such as (integer , string ,float , etc).\n",
        "\n",
        "Bonus tip: A list can also have another list as an element. This is called a nested list.\n",
        "\n",
        "\"\"\"\n",
        "\n",
        "fruits = [\"Bannana\", \"Apple\", \"Peach\"]"
      ]
    }
  ]
}