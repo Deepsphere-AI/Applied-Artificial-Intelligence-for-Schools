{
  "nbformat": 4,
  "nbformat_minor": 0,
  "metadata": {
    "colab": {
      "provenance": [],
      "authorship_tag": "ABX9TyNDP6WVQFjJXRrtxGtL4vI5",
      "include_colab_link": true
    },
    "kernelspec": {
      "name": "python3",
      "display_name": "Python 3"
    },
    "language_info": {
      "name": "python"
    }
  },
  "cells": [
    {
      "cell_type": "markdown",
      "metadata": {
        "id": "view-in-github",
        "colab_type": "text"
      },
      "source": [
        "<a href=\"https://colab.research.google.com/github/Deepsphere-AI/Applied-Artificial-Intelligence-for-Schools/blob/master/Foundation%20Level/Exercise%20lab%201%20-%2024/Eight_PPT_24.ipynb\" target=\"_parent\"><img src=\"https://colab.research.google.com/assets/colab-badge.svg\" alt=\"Open In Colab\"/></a>"
      ]
    },
    {
      "cell_type": "code",
      "execution_count": null,
      "metadata": {
        "id": "7OD90GVIg-Yw"
      },
      "outputs": [],
      "source": [
        "\"\"\"\n",
        "Ex 24.\n",
        "\n",
        "Program Description: The objective of this program is to add verification to the withdraw and deposit functions.\n",
        "\n",
        "Note: Only do the transaction if the verification returns “True.”\n",
        "\n",
        "\"\"\"\n",
        "\n",
        "import random\n",
        "\n",
        "class bank_account:\n",
        "  vAR_balance = 0\n",
        "  vAR_id_number = 0\n",
        "\n",
        "  def __init__(self, vAR_num):\n",
        "    self.balance = vAR_num\n",
        "    self.id_number = random.randrange(100000,999999)\n",
        "\n",
        "  def withdraw(self, vAR_num):\n",
        "    if(self.verify()):\n",
        "      self.balance = self.balance - vAR_num\n",
        "    return self.balance\n",
        "  \n",
        "  def deposit(self, vAR_num):\n",
        "    if(self.verify()):\n",
        "      self.balance = self.balance + vAR_num\n",
        "    return self.balance\n",
        "  \n",
        "  def verify(self):\n",
        "    return self.id_number == int(input(\"What is your id_number?\"))\n",
        "  \n",
        "  def get_id_num(self):\n",
        "    return self.id_number"
      ]
    }
  ]
}