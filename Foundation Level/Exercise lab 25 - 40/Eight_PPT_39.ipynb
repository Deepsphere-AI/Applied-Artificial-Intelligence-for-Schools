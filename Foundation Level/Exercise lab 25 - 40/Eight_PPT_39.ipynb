{
  "nbformat": 4,
  "nbformat_minor": 0,
  "metadata": {
    "colab": {
      "provenance": [],
      "authorship_tag": "ABX9TyOu52vY15AqGwHV2lxJPpal",
      "include_colab_link": true
    },
    "kernelspec": {
      "name": "python3",
      "display_name": "Python 3"
    },
    "language_info": {
      "name": "python"
    }
  },
  "cells": [
    {
      "cell_type": "markdown",
      "metadata": {
        "id": "view-in-github",
        "colab_type": "text"
      },
      "source": [
        "<a href=\"https://colab.research.google.com/github/Deepsphere-AI/Applied-Artificial-Intelligence-for-Schools/blob/master/Foundation%20Level/Exercise%20lab%2025%20-%2040/Eight_PPT_39.ipynb\" target=\"_parent\"><img src=\"https://colab.research.google.com/assets/colab-badge.svg\" alt=\"Open In Colab\"/></a>"
      ]
    },
    {
      "cell_type": "code",
      "execution_count": null,
      "metadata": {
        "id": "3cY_ATTdCr7R"
      },
      "outputs": [],
      "source": [
        "\"\"\"\n",
        "Ex 39.\n",
        "\n",
        "Create and show a pie chart that has 4 equal sections.\n",
        "\n",
        "Program Description: The objective of this program is to create a pie chart that is equally divided into 4 sections by entering the percentage out of 100 for each part. \n",
        "\n",
        "\"\"\"\n",
        "\n",
        "import matplotlib.pyplot as plt\n",
        "import numpy as np\n",
        "\n",
        "X = np.array([25, 25, 25, 25])\n",
        "\n",
        "plt.pie(X)"
      ]
    }
  ]
}