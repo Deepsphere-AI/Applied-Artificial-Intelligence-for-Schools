{
  "nbformat": 4,
  "nbformat_minor": 0,
  "metadata": {
    "colab": {
      "provenance": [],
      "authorship_tag": "ABX9TyMoU8vhvhDxQ1gSbwCNJOKw",
      "include_colab_link": true
    },
    "kernelspec": {
      "name": "python3",
      "display_name": "Python 3"
    },
    "language_info": {
      "name": "python"
    }
  },
  "cells": [
    {
      "cell_type": "markdown",
      "metadata": {
        "id": "view-in-github",
        "colab_type": "text"
      },
      "source": [
        "<a href=\"https://colab.research.google.com/github/Deepsphere-AI/Applied-Artificial-Intelligence-for-Schools/blob/master/Foundation%20Level/Exercise%20lab%2025%20-%2040/Eight_PPT_27.ipynb\" target=\"_parent\"><img src=\"https://colab.research.google.com/assets/colab-badge.svg\" alt=\"Open In Colab\"/></a>"
      ]
    },
    {
      "cell_type": "code",
      "execution_count": null,
      "metadata": {
        "id": "XHtbZRSn9pip"
      },
      "outputs": [],
      "source": [
        "\"\"\"\n",
        "Ex 27.\n",
        "Plot the parabola y = x^2 + 6x + 9 from x = -10 to x = 10\n",
        "\n",
        "Program Description: The objective of this program is to plot the equation of the parabola (y = x^2 + 6x + 9) from the x values -10 and 10.\n",
        "\"\"\"\n",
        "import matplotlib.pyplot as plt\n",
        "import numpy as np\n",
        "\n",
        "x = range(-10, 11)\n",
        "y = [(i*i + 6*i + 9) for i in x]\n",
        "\n",
        "plt.plot(x, y)\n",
        "plt.show"
      ]
    }
  ]
}