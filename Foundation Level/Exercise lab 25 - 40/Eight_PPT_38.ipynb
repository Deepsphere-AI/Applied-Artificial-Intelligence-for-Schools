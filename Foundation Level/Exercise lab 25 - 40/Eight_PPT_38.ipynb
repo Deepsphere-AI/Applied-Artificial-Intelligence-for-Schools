{
  "nbformat": 4,
  "nbformat_minor": 0,
  "metadata": {
    "colab": {
      "provenance": [],
      "authorship_tag": "ABX9TyPr26ATPE09z0jshikrG2he",
      "include_colab_link": true
    },
    "kernelspec": {
      "name": "python3",
      "display_name": "Python 3"
    },
    "language_info": {
      "name": "python"
    }
  },
  "cells": [
    {
      "cell_type": "markdown",
      "metadata": {
        "id": "view-in-github",
        "colab_type": "text"
      },
      "source": [
        "<a href=\"https://colab.research.google.com/github/Deepsphere-AI/Applied-Artificial-Intelligence-for-Schools/blob/master/Foundation%20Level/Exercise%20lab%2025%20-%2040/Eight_PPT_38.ipynb\" target=\"_parent\"><img src=\"https://colab.research.google.com/assets/colab-badge.svg\" alt=\"Open In Colab\"/></a>"
      ]
    },
    {
      "cell_type": "code",
      "execution_count": null,
      "metadata": {
        "id": "eyl_uAfOCbaL"
      },
      "outputs": [],
      "source": [
        "\"\"\"\n",
        "Ex 38.\n",
        "\n",
        "Create a random histogram with np.random.normal() that is centered around 100 with a standard deviation of 10.\n",
        "\n",
        "Program Description: The objective of this program is to  create a random histogram with np/random.normal() that is centered around 100 with a standard deviation of 10.\n",
        "\n",
        "\"\"\"\n",
        "import matplotlib.pyplot as plt\n",
        "import numpy as np\n",
        "\n",
        "x = np.random.normal(100, 10, 250) # The 170 is the mean and the 10 is the standard deviation. We are also using .normal so that our histogram will be relativly normal\n",
        "\n",
        "plt.hist(x)"
      ]
    }
  ]
}