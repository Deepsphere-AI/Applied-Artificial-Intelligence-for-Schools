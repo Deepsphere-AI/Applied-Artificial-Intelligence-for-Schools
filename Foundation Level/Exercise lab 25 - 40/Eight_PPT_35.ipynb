{
  "nbformat": 4,
  "nbformat_minor": 0,
  "metadata": {
    "colab": {
      "provenance": [],
      "authorship_tag": "ABX9TyO3M9vAWR2rY5bY1jP/IimM",
      "include_colab_link": true
    },
    "kernelspec": {
      "name": "python3",
      "display_name": "Python 3"
    },
    "language_info": {
      "name": "python"
    }
  },
  "cells": [
    {
      "cell_type": "markdown",
      "metadata": {
        "id": "view-in-github",
        "colab_type": "text"
      },
      "source": [
        "<a href=\"https://colab.research.google.com/github/Deepsphere-AI/Applied-Artificial-Intelligence-for-Schools/blob/master/Foundation%20Level/Exercise%20lab%2025%20-%2040/Eight_PPT_35.ipynb\" target=\"_parent\"><img src=\"https://colab.research.google.com/assets/colab-badge.svg\" alt=\"Open In Colab\"/></a>"
      ]
    },
    {
      "cell_type": "code",
      "execution_count": null,
      "metadata": {
        "id": "oUggs_BDA74i"
      },
      "outputs": [],
      "source": [
        "\"\"\"\n",
        "Ex 35.\n",
        "\n",
        "Create an array with the letters \"A\" through \"D\". Make this the X values. Now create a array with 4 random numbers and make it the Y values. Create a corresponding bar graph with these X and Y values.\n",
        "\n",
        "Program Description: The objective of this program is to create an array with letters A - D (which will be the x values) and another array with 4 random numbers (which will be the y values) and make a bar graph.\n",
        "\n",
        "\"\"\"\n",
        "\n",
        "import numpy as np\n",
        "import matplotlib.pyplot as plt\n",
        "\n",
        "X = np.array([\"A\", \"B\", \"C\", \"D\"])\n",
        "Y = np.array([12, 3, 15, 6])\n",
        "\n",
        "plt.bar(X, Y)"
      ]
    }
  ]
}