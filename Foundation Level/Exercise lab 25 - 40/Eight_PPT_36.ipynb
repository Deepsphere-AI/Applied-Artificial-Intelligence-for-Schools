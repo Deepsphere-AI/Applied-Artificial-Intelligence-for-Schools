{
  "nbformat": 4,
  "nbformat_minor": 0,
  "metadata": {
    "colab": {
      "provenance": [],
      "authorship_tag": "ABX9TyPDm3loPyLZScX7AIYqC1ft",
      "include_colab_link": true
    },
    "kernelspec": {
      "name": "python3",
      "display_name": "Python 3"
    },
    "language_info": {
      "name": "python"
    }
  },
  "cells": [
    {
      "cell_type": "markdown",
      "metadata": {
        "id": "view-in-github",
        "colab_type": "text"
      },
      "source": [
        "<a href=\"https://colab.research.google.com/github/Deepsphere-AI/Applied-Artificial-Intelligence-for-Schools/blob/master/Foundation%20Level/Exercise%20lab%2025%20-%2040/Eight_PPT_36.ipynb\" target=\"_parent\"><img src=\"https://colab.research.google.com/assets/colab-badge.svg\" alt=\"Open In Colab\"/></a>"
      ]
    },
    {
      "cell_type": "code",
      "execution_count": null,
      "metadata": {
        "id": "YmFzsiKMDOZ_"
      },
      "outputs": [],
      "source": [
        "\"\"\"\n",
        "Ex 36.\n",
        "\n",
        "Now Using the random class in python, create a bar chart with 4 categories, \"A\" through \"D\", but randomize each value from 1 to 20.\n",
        "\n",
        "Program Description: The objective of this program is to use a random class  in python and create a bar chart with 4 categories, “A” through “D” , but randomize each value from 1 to 20. This program highlights the usage of “randrange”. \n",
        "\n",
        "\"\"\"\n",
        "\n",
        "import numpy as np\n",
        "import matplotlib.pyplot as plt\n",
        "import random\n",
        "\n",
        "X = np.array([\"A\", \"B\", \"C\", \"D\"])\n",
        "Y = []\n",
        "for x in range(0,4):\n",
        "  Y.append(random.randrange(1,21))\n",
        "\n",
        "\n",
        "plt.bar(X, Y)"
      ]
    }
  ]
}