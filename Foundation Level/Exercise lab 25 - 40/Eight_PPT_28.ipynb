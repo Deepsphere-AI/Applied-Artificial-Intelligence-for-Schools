{
  "nbformat": 4,
  "nbformat_minor": 0,
  "metadata": {
    "colab": {
      "provenance": [],
      "authorship_tag": "ABX9TyNlcSr3oTewNbm1DQLl6I/F",
      "include_colab_link": true
    },
    "kernelspec": {
      "name": "python3",
      "display_name": "Python 3"
    },
    "language_info": {
      "name": "python"
    }
  },
  "cells": [
    {
      "cell_type": "markdown",
      "metadata": {
        "id": "view-in-github",
        "colab_type": "text"
      },
      "source": [
        "<a href=\"https://colab.research.google.com/github/Deepsphere-AI/Applied-Artificial-Intelligence-for-Schools/blob/master/Foundation%20Level/Exercise%20lab%2025%20-%2040/Eight_PPT_28.ipynb\" target=\"_parent\"><img src=\"https://colab.research.google.com/assets/colab-badge.svg\" alt=\"Open In Colab\"/></a>"
      ]
    },
    {
      "cell_type": "code",
      "execution_count": null,
      "metadata": {
        "id": "t3nje-pl-X6V"
      },
      "outputs": [],
      "source": [
        "\"\"\"\n",
        "Ex 28.\n",
        "Draw a smiley face using plt.scatter and plt.plot\n",
        "\n",
        "Program Description: The objective of this program is to draw a smiley face using the functions .scatter() and .plot() in matplotlib.\n",
        "\n",
        "\"\"\"\n",
        "import matplotlib.pyplot as plt\n",
        "import numpy as np\n",
        "\n",
        "eyeY = 40\n",
        "left = -2\n",
        "right = 2\n",
        "\n",
        "X = range (-5, 6)\n",
        "Y = [i*i for i in X]\n",
        "\n",
        "plt.scatter(left, eyeY)\n",
        "plt.scatter(right, eyeY)\n",
        "\n",
        "plt.plot(X, Y)\n",
        "\n",
        "plt.show"
      ]
    }
  ]
}