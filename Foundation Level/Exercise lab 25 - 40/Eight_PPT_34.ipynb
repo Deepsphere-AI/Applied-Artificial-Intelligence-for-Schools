{
  "nbformat": 4,
  "nbformat_minor": 0,
  "metadata": {
    "colab": {
      "provenance": [],
      "authorship_tag": "ABX9TyNhKPj9HWmXiqh1zniGyvkZ",
      "include_colab_link": true
    },
    "kernelspec": {
      "name": "python3",
      "display_name": "Python 3"
    },
    "language_info": {
      "name": "python"
    }
  },
  "cells": [
    {
      "cell_type": "markdown",
      "metadata": {
        "id": "view-in-github",
        "colab_type": "text"
      },
      "source": [
        "<a href=\"https://colab.research.google.com/github/Deepsphere-AI/Applied-Artificial-Intelligence-for-Schools/blob/master/Foundation%20Level/Exercise%20lab%2025%20-%2040/Eight_PPT_34.ipynb\" target=\"_parent\"><img src=\"https://colab.research.google.com/assets/colab-badge.svg\" alt=\"Open In Colab\"/></a>"
      ]
    },
    {
      "cell_type": "code",
      "execution_count": null,
      "metadata": {
        "id": "65alR7WKAwhv"
      },
      "outputs": [],
      "source": [
        "\"\"\"\n",
        "Ex 34.\n",
        "Using the code from ex.33, theres a cool feature with matplotlib that will add grids to the graph. Using the .grid() function, add a grid to the graph.\n",
        "\n",
        "Program Description: The objective of this program is to use the .grid() function from matplotlib to add a grid to the graph from the previous program.\n",
        "\n",
        "\"\"\"\n",
        "\n",
        "import numpy as np\n",
        "import matplotlib.pyplot as plt\n",
        "\n",
        "X = np.array([1, 2, 3])\n",
        "Y = np.array([1, 2, 3])\n",
        "\n",
        "plt.grid()\n",
        "\n",
        "plt.plot(X, Y)"
      ]
    }
  ]
}