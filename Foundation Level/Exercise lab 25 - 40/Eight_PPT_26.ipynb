{
  "nbformat": 4,
  "nbformat_minor": 0,
  "metadata": {
    "colab": {
      "provenance": [],
      "authorship_tag": "ABX9TyNfr/xX/JEIIflvBkSmx5Rg",
      "include_colab_link": true
    },
    "kernelspec": {
      "name": "python3",
      "display_name": "Python 3"
    },
    "language_info": {
      "name": "python"
    }
  },
  "cells": [
    {
      "cell_type": "markdown",
      "metadata": {
        "id": "view-in-github",
        "colab_type": "text"
      },
      "source": [
        "<a href=\"https://colab.research.google.com/github/Deepsphere-AI/Applied-Artificial-Intelligence-for-Schools/blob/master/Foundation%20Level/Exercise%20lab%2025%20-%2040/Eight_PPT_26.ipynb\" target=\"_parent\"><img src=\"https://colab.research.google.com/assets/colab-badge.svg\" alt=\"Open In Colab\"/></a>"
      ]
    },
    {
      "cell_type": "code",
      "execution_count": null,
      "metadata": {
        "id": "KiqxhOFQ85tQ"
      },
      "outputs": [],
      "source": [
        "\"\"\"\n",
        "Ex 26.\n",
        "Plot a line from (1,1) to (8, 8)\n",
        "\n",
        "Program Description: The objective of this program is to plot a line from the point (1,1) to the point (8, 8) using matplotlib & numpy.\n",
        "\n",
        "\"\"\"\n",
        "import matplotlib.pyplot as plt\n",
        "import numpy as np\n",
        "\n",
        "x = range(1, 9)\n",
        "y = [i for i in x]\n",
        "\n",
        "plt.plot(x, y)\n",
        "plt.show"
      ]
    }
  ]
}