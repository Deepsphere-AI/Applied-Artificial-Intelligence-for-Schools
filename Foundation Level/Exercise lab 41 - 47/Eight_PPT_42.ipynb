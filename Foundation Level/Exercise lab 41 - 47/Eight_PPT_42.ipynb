{
  "nbformat": 4,
  "nbformat_minor": 0,
  "metadata": {
    "colab": {
      "provenance": [],
      "authorship_tag": "ABX9TyM9YVbA9yTSoLLF2hNWTQHx",
      "include_colab_link": true
    },
    "kernelspec": {
      "name": "python3",
      "display_name": "Python 3"
    },
    "language_info": {
      "name": "python"
    }
  },
  "cells": [
    {
      "cell_type": "markdown",
      "metadata": {
        "id": "view-in-github",
        "colab_type": "text"
      },
      "source": [
        "<a href=\"https://colab.research.google.com/github/Deepsphere-AI/Applied-Artificial-Intelligence-for-Schools/blob/master/Foundation%20Level/Exercise%20lab%2041%20-%2047/Eight_PPT_42.ipynb\" target=\"_parent\"><img src=\"https://colab.research.google.com/assets/colab-badge.svg\" alt=\"Open In Colab\"/></a>"
      ]
    },
    {
      "cell_type": "code",
      "execution_count": null,
      "metadata": {
        "id": "y4BL5KKjGEuR"
      },
      "outputs": [],
      "source": [
        "\"\"\"\n",
        "Ex 42.\n",
        "\n",
        "Given the array, arr = np.array([0, 1, 2, 3, 4, 5, 6, 7, 8, 9]), arrange it so that the first half of the array is on top when printed and the other half is on the bottom\n",
        "\n",
        "Program Description: The objective of this program is to arrange an array in such a way that the first half is on top and the other on bottom when it gets printed. You utilize arr.reshape and enter the rows and columns as the criterion for this to happen using numpy. \n",
        "Note: Use this format arrName.reshape(rows, columns), when you enter -1 in columns, it makes it such that, the number of columns depends automatically on the number of rows and how the array is split.\n",
        "\n",
        "\"\"\"\n",
        "\n",
        "import numpy as np\n",
        "\n",
        "arr = np.array([0, 1, 2, 3, 4, 5, 6, 7, 8, 9])\n",
        "arr = arr.reshape(2, -1) # 2 is rows and -1 is columns. The -1 makes it so that it decides how many columns automatically \n",
        "\n",
        "print(arr)"
      ]
    }
  ]
}