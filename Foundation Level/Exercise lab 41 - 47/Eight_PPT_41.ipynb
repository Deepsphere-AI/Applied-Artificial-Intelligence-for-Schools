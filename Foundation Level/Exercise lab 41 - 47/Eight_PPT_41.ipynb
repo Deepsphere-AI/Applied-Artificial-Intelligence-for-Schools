{
  "nbformat": 4,
  "nbformat_minor": 0,
  "metadata": {
    "colab": {
      "provenance": [],
      "authorship_tag": "ABX9TyM75KcnFQ5S2fDN5DvaE4/J",
      "include_colab_link": true
    },
    "kernelspec": {
      "name": "python3",
      "display_name": "Python 3"
    },
    "language_info": {
      "name": "python"
    }
  },
  "cells": [
    {
      "cell_type": "markdown",
      "metadata": {
        "id": "view-in-github",
        "colab_type": "text"
      },
      "source": [
        "<a href=\"https://colab.research.google.com/github/Deepsphere-AI/Applied-Artificial-Intelligence-for-Schools/blob/master/Foundation%20Level/Exercise%20lab%2041%20-%2047/Eight_PPT_41.ipynb\" target=\"_parent\"><img src=\"https://colab.research.google.com/assets/colab-badge.svg\" alt=\"Open In Colab\"/></a>"
      ]
    },
    {
      "cell_type": "code",
      "execution_count": null,
      "metadata": {
        "id": "y1HbXN5YDnRQ"
      },
      "outputs": [],
      "source": [
        "\"\"\"\n",
        "Ex 41.\n",
        "\n",
        "Given the array, arr = np.array([0, 1, 2, 3, 4, 5, 6, 7, 8, 9]), extract all odd numbers from the array.\n",
        "\n",
        "Program Description: The objective of this program is to extract all odd numbers from a given array. We use numpy to do the same. We enter the Boolean condition for choosing all odd numbers.\n",
        "Note: We have done the same program before using for loops or while loops, however, that uses more lines of code, this is more efficient.\n",
        "\n",
        "\"\"\"\n",
        "\n",
        "import numpy as np\n",
        "\n",
        "arr = np.array([0, 1, 2, 3, 4, 5, 6, 7, 8, 9])\n",
        "arr = arr[arr % 2 == 1]\n",
        "\n",
        "print(arr)"
      ]
    }
  ]
}