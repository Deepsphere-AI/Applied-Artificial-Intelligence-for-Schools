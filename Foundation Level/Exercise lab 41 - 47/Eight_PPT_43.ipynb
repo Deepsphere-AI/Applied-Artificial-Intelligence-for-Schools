{
  "nbformat": 4,
  "nbformat_minor": 0,
  "metadata": {
    "colab": {
      "provenance": [],
      "authorship_tag": "ABX9TyNTzrvZqgBbWnsRfKv3jReW",
      "include_colab_link": true
    },
    "kernelspec": {
      "name": "python3",
      "display_name": "Python 3"
    },
    "language_info": {
      "name": "python"
    }
  },
  "cells": [
    {
      "cell_type": "markdown",
      "metadata": {
        "id": "view-in-github",
        "colab_type": "text"
      },
      "source": [
        "<a href=\"https://colab.research.google.com/github/Deepsphere-AI/Applied-Artificial-Intelligence-for-Schools/blob/master/Foundation%20Level/Exercise%20lab%2041%20-%2047/Eight_PPT_43.ipynb\" target=\"_parent\"><img src=\"https://colab.research.google.com/assets/colab-badge.svg\" alt=\"Open In Colab\"/></a>"
      ]
    },
    {
      "cell_type": "code",
      "execution_count": null,
      "metadata": {
        "id": "QqV4D1z9EbOX"
      },
      "outputs": [],
      "source": [
        "\"\"\"\n",
        "Ex 43.\n",
        "\n",
        "Given the arrays, arr = np.array([0, 1, 2, 3, 4, 5, 6, 7, 8, 9]) and arr1 = np.array([2, 3, 4]), find the common items present in both arrays.\n",
        "\n",
        "Program Description: The objective of this program is to find the common items between two arrays using numpy. The common items get added to a new array.\n",
        "Note: Use the format np.intersec1d(arr1, arr2) to find the common items.\n",
        "\n",
        "\"\"\"\n",
        "\n",
        "import numpy as np\n",
        "\n",
        "arr = np.array([0, 1, 2, 3, 4, 5, 6, 7, 8, 9])\n",
        "arr1 = np.array([2, 3, 4])\n",
        "\n",
        "arr2 = np.intersect1d(arr,arr1)\n",
        "\n",
        "print(arr2)"
      ]
    }
  ]
}