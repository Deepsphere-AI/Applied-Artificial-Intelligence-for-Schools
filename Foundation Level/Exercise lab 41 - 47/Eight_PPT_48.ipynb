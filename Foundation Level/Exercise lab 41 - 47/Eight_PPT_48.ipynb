{
  "nbformat": 4,
  "nbformat_minor": 0,
  "metadata": {
    "colab": {
      "provenance": [],
      "authorship_tag": "ABX9TyPbCCC0gLz1Bz+rC9hRo4HM",
      "include_colab_link": true
    },
    "kernelspec": {
      "name": "python3",
      "display_name": "Python 3"
    },
    "language_info": {
      "name": "python"
    }
  },
  "cells": [
    {
      "cell_type": "markdown",
      "metadata": {
        "id": "view-in-github",
        "colab_type": "text"
      },
      "source": [
        "<a href=\"https://colab.research.google.com/github/Deepsphere-AI/Applied-Artificial-Intelligence-for-Schools/blob/master/Foundation%20Level/Exercise%20lab%2041%20-%2047/Eight_PPT_48.ipynb\" target=\"_parent\"><img src=\"https://colab.research.google.com/assets/colab-badge.svg\" alt=\"Open In Colab\"/></a>"
      ]
    },
    {
      "cell_type": "code",
      "execution_count": null,
      "metadata": {
        "id": "vDLsv9coFsSD"
      },
      "outputs": [],
      "source": [
        "\"\"\"\n",
        "Ex 48.\n",
        "\n",
        "Using the code from ex 47, format the output so that only the first and last 3 numbers will be shown.\n",
        "\n",
        "Program Description: The objective of this program is to create an array counting numbers upto a specific values and format the output so that only the first and last 3 numbers will be shown. \n",
        "Note: Use the format np.set_printoptions(threshold=x) where x is the number.\n",
        "\n",
        "\"\"\"\n",
        "\n",
        "import numpy as np\n",
        "\n",
        "arr = np.arange(20)\n",
        "np.set_printoptions(threshold=6)\n",
        "\n",
        "print(arr)"
      ]
    }
  ]
}